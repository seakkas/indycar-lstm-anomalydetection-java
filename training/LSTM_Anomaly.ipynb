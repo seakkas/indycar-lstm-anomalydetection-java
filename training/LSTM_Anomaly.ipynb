{
 "cells": [
  {
   "cell_type": "markdown",
   "metadata": {},
   "source": [
    "# LSTM Anomaly Detection"
   ]
  },
  {
   "cell_type": "code",
   "execution_count": 1,
   "metadata": {},
   "outputs": [
    {
     "name": "stdout",
     "output_type": "stream",
     "text": [
      "Collecting pymongo\n",
      "  Downloading pymongo-3.10.1-cp37-cp37m-manylinux2014_x86_64.whl (462 kB)\n",
      "\u001b[K     |████████████████████████████████| 462 kB 5.1 MB/s eta 0:00:01\n",
      "\u001b[?25hInstalling collected packages: pymongo\n",
      "Successfully installed pymongo-3.10.1\n"
     ]
    }
   ],
   "source": [
    "!pip install pymongo\n",
    "!"
   ]
  },
  {
   "cell_type": "code",
   "execution_count": 51,
   "metadata": {},
   "outputs": [],
   "source": [
    "from pymongo import MongoClient\n",
    "import pandas as pd\n",
    "import numpy as np\n",
    "import tensorflow as tf\n",
    "import tensorflow.keras as keras\n",
    "from tensorflow.keras.callbacks import EarlyStopping, ModelCheckpoint\n",
    "import matplotlib.pyplot as plt"
   ]
  },
  {
   "cell_type": "code",
   "execution_count": 6,
   "metadata": {},
   "outputs": [
    {
     "name": "stdout",
     "output_type": "stream",
     "text": [
      "['laps', 'system.indexes', 'cars', 'telemetry', 'pitstop']\n"
     ]
    }
   ],
   "source": [
    "client = MongoClient(\"put-mongodb-connection-string-here\")\n",
    "\n",
    "# database\n",
    "db = client[\"indycar\"]\n",
    "\n",
    "# print collections(tables) in the indycar database\n",
    "print(db.list_collection_names())"
   ]
  },
  {
   "cell_type": "code",
   "execution_count": 7,
   "metadata": {},
   "outputs": [],
   "source": [
    "telemetry= db[\"telemetry\"]"
   ]
  },
  {
   "cell_type": "code",
   "execution_count": 8,
   "metadata": {},
   "outputs": [
    {
     "name": "stdout",
     "output_type": "stream",
     "text": [
      "{'_id': ObjectId('5d9cdc66d6468701d4b7863b'), 'file': 'eRPGenerator_TGMLP_20170528_Indianapolis500_Race.log', 'car_number': '21', 'time_of_day_long': 58980010, 'time_of_day': '16:23:00.010', 'engine_speed': 3297.0, 'lap_distance': 2703.21, 'throttle': 4.0, 'vehicle_speed': 62.16, 'series': 'Indy500', 'year': '2017'}\n",
      "{'_id': ObjectId('5d9cdc66d6468701d4b7863c'), 'file': 'eRPGenerator_TGMLP_20170528_Indianapolis500_Race.log', 'car_number': '50', 'time_of_day_long': 58980019, 'time_of_day': '16:23:00.019', 'engine_speed': 5187.0, 'lap_distance': 1873.8, 'throttle': 20.0, 'vehicle_speed': 63.0, 'series': 'Indy500', 'year': '2017'}\n",
      "{'_id': ObjectId('5d9cdc66d6468701d4b7863d'), 'file': 'eRPGenerator_TGMLP_20170528_Indianapolis500_Race.log', 'car_number': '63', 'time_of_day_long': 58980023, 'time_of_day': '16:23:00.023', 'engine_speed': 4914.0, 'lap_distance': 1822.53, 'throttle': 73.0, 'vehicle_speed': 58.0, 'series': 'Indy500', 'year': '2017'}\n",
      "{'_id': ObjectId('5d9cdc66d6468701d4b7863e'), 'file': 'eRPGenerator_TGMLP_20170528_Indianapolis500_Race.log', 'car_number': '77', 'time_of_day_long': 58980034, 'time_of_day': '16:23:00.034', 'engine_speed': 6744.0, 'lap_distance': 2063.97, 'throttle': 24.0, 'vehicle_speed': 77.52, 'series': 'Indy500', 'year': '2017'}\n",
      "{'_id': ObjectId('5d9cdc66d6468701d4b7863f'), 'file': 'eRPGenerator_TGMLP_20170528_Indianapolis500_Race.log', 'car_number': '1', 'time_of_day_long': 58980064, 'time_of_day': '16:23:00.064', 'engine_speed': 3356.0, 'lap_distance': 1986.76, 'throttle': 9.5, 'vehicle_speed': 60.83, 'series': 'Indy500', 'year': '2017'}\n",
      "{'_id': ObjectId('5d9cdc66d6468701d4b78640'), 'file': 'eRPGenerator_TGMLP_20170528_Indianapolis500_Race.log', 'car_number': '2', 'time_of_day_long': 58980063, 'time_of_day': '16:23:00.063', 'engine_speed': 4566.0, 'lap_distance': 1984.2, 'throttle': 8.5, 'vehicle_speed': 67.5, 'series': 'Indy500', 'year': '2017'}\n",
      "{'_id': ObjectId('5d9cdc66d6468701d4b78641'), 'file': 'eRPGenerator_TGMLP_20170528_Indianapolis500_Race.log', 'car_number': '4', 'time_of_day_long': 58980090, 'time_of_day': '16:23:00.090', 'engine_speed': 5469.0, 'lap_distance': 1902.77, 'throttle': 0.0, 'vehicle_speed': 63.93, 'series': 'Indy500', 'year': '2017'}\n",
      "{'_id': ObjectId('5d9cdc66d6468701d4b78642'), 'file': 'eRPGenerator_TGMLP_20170528_Indianapolis500_Race.log', 'car_number': '8', 'time_of_day_long': 58980022, 'time_of_day': '16:23:00.022', 'engine_speed': 5097.0, 'lap_distance': 2330.67, 'throttle': 27.0, 'vehicle_speed': 93.02, 'series': 'Indy500', 'year': '2017'}\n",
      "{'_id': ObjectId('5d9cdc66d6468701d4b78643'), 'file': 'eRPGenerator_TGMLP_20170528_Indianapolis500_Race.log', 'car_number': '9', 'time_of_day_long': 58980027, 'time_of_day': '16:23:00.027', 'engine_speed': 5629.0, 'lap_distance': 2831.39, 'throttle': 55.0, 'vehicle_speed': 70.32, 'series': 'Indy500', 'year': '2017'}\n",
      "{'_id': ObjectId('5d9cdc66d6468701d4b78644'), 'file': 'eRPGenerator_TGMLP_20170528_Indianapolis500_Race.log', 'car_number': '11', 'time_of_day_long': 58980032, 'time_of_day': '16:23:00.032', 'engine_speed': 3171.0, 'lap_distance': 1837.3, 'throttle': 0.0, 'vehicle_speed': 60.83, 'series': 'Indy500', 'year': '2017'}\n"
     ]
    }
   ],
   "source": [
    "first_10 = telemetry.find({}).limit(10)\n",
    "\n",
    "for rec in first_10:\n",
    "    print(rec)\n",
    "    \n",
    "del first_10"
   ]
  },
  {
   "cell_type": "code",
   "execution_count": 9,
   "metadata": {},
   "outputs": [
    {
     "name": "stdout",
     "output_type": "stream",
     "text": [
      "['21', '50', '63', '77', '1', '2', '4', '8', '9', '11', '12', '18', '19', '20', '24', '40', '44', '88', '98', '912', '916', '0', '15', '28', '911', '10', '14', '26', '29', '913', '7', '17', '22', '27', '3', '83', '5', '16']\n",
      "['19', '22', '23', '24', '26', '27', '29', '32', '33', '59', '60', '64', '88', 'S1', 'S3', '1', '4', '6', '7', '10', '13', '14', '15', '17', '18', '20', '21', '25', '98', 'S2', '3', '9', '28', '12', '30', '66', '437']\n"
     ]
    }
   ],
   "source": [
    "car_numbers_2017 = list(telemetry.find({'year':'2017', 'series':'Indy500'}, {\"car_number\":1, \"_id\":0}).distinct(\"car_number\"))\n",
    "print(car_numbers_2017)\n",
    "\n",
    "car_numbers_2018 = list(telemetry.find({'year':'2018', 'series':'Indy500'}, {\"car_number\":1, \"_id\":0}).distinct(\"car_number\"))\n",
    "print(car_numbers_2018)"
   ]
  },
  {
   "cell_type": "markdown",
   "metadata": {},
   "source": [
    "Car numbers are between 1 and 99. Therefore, I removed other values."
   ]
  },
  {
   "cell_type": "code",
   "execution_count": 10,
   "metadata": {},
   "outputs": [],
   "source": [
    "car_numbers= {}\n",
    "car_numbers['2017'] = ['21', '50', '63', '77', '1', '2', '4', '8', '9', '11', '12', '18', '19', '20', '24', '40', '44', '88', '98', '15', '28', '10', '14', '26', '29', '7', '17', '22', '27', '3', '83', '5', '16']\n",
    "car_numbers['2018']= ['19', '22', '23', '24', '26', '27', '29', '32', '33', '59', '60', '64', '88', '1', '4', '6', '7', '10', '13', '14', '15', '17', '18', '20', '21', '25', '98', '3', '9', '28', '12', '30', '66']"
   ]
  },
  {
   "cell_type": "markdown",
   "metadata": {},
   "source": [
    "# Speed Model"
   ]
  },
  {
   "cell_type": "code",
   "execution_count": 11,
   "metadata": {},
   "outputs": [
    {
     "data": {
      "text/html": [
       "<div>\n",
       "<style scoped>\n",
       "    .dataframe tbody tr th:only-of-type {\n",
       "        vertical-align: middle;\n",
       "    }\n",
       "\n",
       "    .dataframe tbody tr th {\n",
       "        vertical-align: top;\n",
       "    }\n",
       "\n",
       "    .dataframe thead th {\n",
       "        text-align: right;\n",
       "    }\n",
       "</style>\n",
       "<table border=\"1\" class=\"dataframe\">\n",
       "  <thead>\n",
       "    <tr style=\"text-align: right;\">\n",
       "      <th></th>\n",
       "      <th>car_number</th>\n",
       "      <th>time_of_day</th>\n",
       "      <th>vehicle_speed</th>\n",
       "      <th>year</th>\n",
       "    </tr>\n",
       "  </thead>\n",
       "  <tbody>\n",
       "    <tr>\n",
       "      <th>0</th>\n",
       "      <td>21</td>\n",
       "      <td>16:23:00.010</td>\n",
       "      <td>62.16</td>\n",
       "      <td>2017</td>\n",
       "    </tr>\n",
       "    <tr>\n",
       "      <th>1</th>\n",
       "      <td>50</td>\n",
       "      <td>16:23:00.019</td>\n",
       "      <td>63.00</td>\n",
       "      <td>2017</td>\n",
       "    </tr>\n",
       "    <tr>\n",
       "      <th>2</th>\n",
       "      <td>63</td>\n",
       "      <td>16:23:00.023</td>\n",
       "      <td>58.00</td>\n",
       "      <td>2017</td>\n",
       "    </tr>\n",
       "    <tr>\n",
       "      <th>3</th>\n",
       "      <td>77</td>\n",
       "      <td>16:23:00.034</td>\n",
       "      <td>77.52</td>\n",
       "      <td>2017</td>\n",
       "    </tr>\n",
       "    <tr>\n",
       "      <th>4</th>\n",
       "      <td>1</td>\n",
       "      <td>16:23:00.064</td>\n",
       "      <td>60.83</td>\n",
       "      <td>2017</td>\n",
       "    </tr>\n",
       "    <tr>\n",
       "      <th>...</th>\n",
       "      <td>...</td>\n",
       "      <td>...</td>\n",
       "      <td>...</td>\n",
       "      <td>...</td>\n",
       "    </tr>\n",
       "    <tr>\n",
       "      <th>5939908</th>\n",
       "      <td>88</td>\n",
       "      <td>19:25:06.649</td>\n",
       "      <td>0.00</td>\n",
       "      <td>2018</td>\n",
       "    </tr>\n",
       "    <tr>\n",
       "      <th>5939909</th>\n",
       "      <td>98</td>\n",
       "      <td>19:25:06.657</td>\n",
       "      <td>0.00</td>\n",
       "      <td>2018</td>\n",
       "    </tr>\n",
       "    <tr>\n",
       "      <th>5939910</th>\n",
       "      <td>S1</td>\n",
       "      <td>19:25:06.661</td>\n",
       "      <td>0.00</td>\n",
       "      <td>2018</td>\n",
       "    </tr>\n",
       "    <tr>\n",
       "      <th>5939911</th>\n",
       "      <td>S2</td>\n",
       "      <td>19:25:06.579</td>\n",
       "      <td>0.00</td>\n",
       "      <td>2018</td>\n",
       "    </tr>\n",
       "    <tr>\n",
       "      <th>5939912</th>\n",
       "      <td>S3</td>\n",
       "      <td>19:25:06.650</td>\n",
       "      <td>0.00</td>\n",
       "      <td>2018</td>\n",
       "    </tr>\n",
       "  </tbody>\n",
       "</table>\n",
       "<p>5939913 rows × 4 columns</p>\n",
       "</div>"
      ],
      "text/plain": [
       "        car_number   time_of_day  vehicle_speed  year\n",
       "0               21  16:23:00.010          62.16  2017\n",
       "1               50  16:23:00.019          63.00  2017\n",
       "2               63  16:23:00.023          58.00  2017\n",
       "3               77  16:23:00.034          77.52  2017\n",
       "4                1  16:23:00.064          60.83  2017\n",
       "...            ...           ...            ...   ...\n",
       "5939908         88  19:25:06.649           0.00  2018\n",
       "5939909         98  19:25:06.657           0.00  2018\n",
       "5939910         S1  19:25:06.661           0.00  2018\n",
       "5939911         S2  19:25:06.579           0.00  2018\n",
       "5939912         S3  19:25:06.650           0.00  2018\n",
       "\n",
       "[5939913 rows x 4 columns]"
      ]
     },
     "execution_count": 11,
     "metadata": {},
     "output_type": "execute_result"
    }
   ],
   "source": [
    "speed_data =list(telemetry.find({'series':'Indy500'}, {\"car_number\":1, \"time_of_day\":1, \"year\":1, \"vehicle_speed\":1, \"_id\":0}))\n",
    "#car_12_list.values()\n",
    "df = pd.DataFrame(speed_data)\n",
    "df"
   ]
  },
  {
   "cell_type": "code",
   "execution_count": 12,
   "metadata": {},
   "outputs": [
    {
     "data": {
      "text/plain": [
       "car_number        object\n",
       "time_of_day       object\n",
       "vehicle_speed    float64\n",
       "year              object\n",
       "dtype: object"
      ]
     },
     "execution_count": 12,
     "metadata": {},
     "output_type": "execute_result"
    }
   ],
   "source": [
    "df.dtypes"
   ]
  },
  {
   "cell_type": "markdown",
   "metadata": {},
   "source": [
    "scale data between 0 and 1"
   ]
  },
  {
   "cell_type": "code",
   "execution_count": 13,
   "metadata": {},
   "outputs": [
    {
     "name": "stdout",
     "output_type": "stream",
     "text": [
      "speed min: 0, speed max: 239\n"
     ]
    },
    {
     "data": {
      "text/html": [
       "<div>\n",
       "<style scoped>\n",
       "    .dataframe tbody tr th:only-of-type {\n",
       "        vertical-align: middle;\n",
       "    }\n",
       "\n",
       "    .dataframe tbody tr th {\n",
       "        vertical-align: top;\n",
       "    }\n",
       "\n",
       "    .dataframe thead th {\n",
       "        text-align: right;\n",
       "    }\n",
       "</style>\n",
       "<table border=\"1\" class=\"dataframe\">\n",
       "  <thead>\n",
       "    <tr style=\"text-align: right;\">\n",
       "      <th></th>\n",
       "      <th>car_number</th>\n",
       "      <th>time_of_day</th>\n",
       "      <th>vehicle_speed</th>\n",
       "      <th>year</th>\n",
       "      <th>speed_scaled</th>\n",
       "    </tr>\n",
       "  </thead>\n",
       "  <tbody>\n",
       "    <tr>\n",
       "      <th>0</th>\n",
       "      <td>21</td>\n",
       "      <td>16:23:00.010</td>\n",
       "      <td>62.16</td>\n",
       "      <td>2017</td>\n",
       "      <td>0.260084</td>\n",
       "    </tr>\n",
       "    <tr>\n",
       "      <th>1</th>\n",
       "      <td>50</td>\n",
       "      <td>16:23:00.019</td>\n",
       "      <td>63.00</td>\n",
       "      <td>2017</td>\n",
       "      <td>0.263598</td>\n",
       "    </tr>\n",
       "    <tr>\n",
       "      <th>2</th>\n",
       "      <td>63</td>\n",
       "      <td>16:23:00.023</td>\n",
       "      <td>58.00</td>\n",
       "      <td>2017</td>\n",
       "      <td>0.242678</td>\n",
       "    </tr>\n",
       "    <tr>\n",
       "      <th>3</th>\n",
       "      <td>77</td>\n",
       "      <td>16:23:00.034</td>\n",
       "      <td>77.52</td>\n",
       "      <td>2017</td>\n",
       "      <td>0.324351</td>\n",
       "    </tr>\n",
       "    <tr>\n",
       "      <th>4</th>\n",
       "      <td>1</td>\n",
       "      <td>16:23:00.064</td>\n",
       "      <td>60.83</td>\n",
       "      <td>2017</td>\n",
       "      <td>0.254519</td>\n",
       "    </tr>\n",
       "    <tr>\n",
       "      <th>...</th>\n",
       "      <td>...</td>\n",
       "      <td>...</td>\n",
       "      <td>...</td>\n",
       "      <td>...</td>\n",
       "      <td>...</td>\n",
       "    </tr>\n",
       "    <tr>\n",
       "      <th>5939908</th>\n",
       "      <td>88</td>\n",
       "      <td>19:25:06.649</td>\n",
       "      <td>0.00</td>\n",
       "      <td>2018</td>\n",
       "      <td>0.000000</td>\n",
       "    </tr>\n",
       "    <tr>\n",
       "      <th>5939909</th>\n",
       "      <td>98</td>\n",
       "      <td>19:25:06.657</td>\n",
       "      <td>0.00</td>\n",
       "      <td>2018</td>\n",
       "      <td>0.000000</td>\n",
       "    </tr>\n",
       "    <tr>\n",
       "      <th>5939910</th>\n",
       "      <td>S1</td>\n",
       "      <td>19:25:06.661</td>\n",
       "      <td>0.00</td>\n",
       "      <td>2018</td>\n",
       "      <td>0.000000</td>\n",
       "    </tr>\n",
       "    <tr>\n",
       "      <th>5939911</th>\n",
       "      <td>S2</td>\n",
       "      <td>19:25:06.579</td>\n",
       "      <td>0.00</td>\n",
       "      <td>2018</td>\n",
       "      <td>0.000000</td>\n",
       "    </tr>\n",
       "    <tr>\n",
       "      <th>5939912</th>\n",
       "      <td>S3</td>\n",
       "      <td>19:25:06.650</td>\n",
       "      <td>0.00</td>\n",
       "      <td>2018</td>\n",
       "      <td>0.000000</td>\n",
       "    </tr>\n",
       "  </tbody>\n",
       "</table>\n",
       "<p>5939913 rows × 5 columns</p>\n",
       "</div>"
      ],
      "text/plain": [
       "        car_number   time_of_day  vehicle_speed  year  speed_scaled\n",
       "0               21  16:23:00.010          62.16  2017      0.260084\n",
       "1               50  16:23:00.019          63.00  2017      0.263598\n",
       "2               63  16:23:00.023          58.00  2017      0.242678\n",
       "3               77  16:23:00.034          77.52  2017      0.324351\n",
       "4                1  16:23:00.064          60.83  2017      0.254519\n",
       "...            ...           ...            ...   ...           ...\n",
       "5939908         88  19:25:06.649           0.00  2018      0.000000\n",
       "5939909         98  19:25:06.657           0.00  2018      0.000000\n",
       "5939910         S1  19:25:06.661           0.00  2018      0.000000\n",
       "5939911         S2  19:25:06.579           0.00  2018      0.000000\n",
       "5939912         S3  19:25:06.650           0.00  2018      0.000000\n",
       "\n",
       "[5939913 rows x 5 columns]"
      ]
     },
     "execution_count": 13,
     "metadata": {},
     "output_type": "execute_result"
    }
   ],
   "source": [
    "speedmax = np.round(df.vehicle_speed.max())\n",
    "speedmin = 0\n",
    "print('speed min: %d, speed max: %d' % (speedmin, speedmax))\n",
    "df['speed_scaled'] = (df['vehicle_speed'] - speedmin) / (speedmax - speedmin)\n",
    "df"
   ]
  },
  {
   "cell_type": "code",
   "execution_count": 36,
   "metadata": {},
   "outputs": [],
   "source": [
    "# https://www.tensorflow.org/tutorials/structured_data/time_series\n",
    "def generate_timeseries_data(data_df, car_numbers, history_size=150, target_size=1, col_name=\"speed_scaled\", years=['2017', '2018'], train_ratio=0.2):\n",
    "    X,y = [], []\n",
    "    for year in years:\n",
    "        for car_num in car_numbers[year]:\n",
    "            car_data = data_df[(data_df['car_number'] == car_num) & (data_df['year'] == year)][col_name].values\n",
    "            train_size = int(len(car_data) * train_ratio)\n",
    "            \n",
    "            for i in range(history_size, train_size - history_size):\n",
    "                indices = range(i-history_size, i)\n",
    "                #Reshape data from (history_size,) to (history_size, 1)\n",
    "                X.append(np.reshape(car_data[indices], (history_size, 1)))\n",
    "                y.append(car_data[i+target_size])\n",
    "\n",
    "    return np.array(X), np.array(y)"
   ]
  },
  {
   "cell_type": "code",
   "execution_count": 37,
   "metadata": {},
   "outputs": [
    {
     "name": "stdout",
     "output_type": "stream",
     "text": [
      "['21', '50', '63', '77', '1', '2', '4', '8', '9', '11', '12', '18', '19', '20', '24', '40', '44', '88', '98', '15', '28', '10', '14', '26', '29', '7', '17', '22', '27', '3', '83', '5', '16']\n",
      "['19', '22', '23', '24', '26', '27', '29', '32', '33', '59', '60', '64', '88', '1', '4', '6', '7', '10', '13', '14', '15', '17', '18', '20', '21', '25', '98', '3', '9', '28', '12', '30', '66']\n"
     ]
    }
   ],
   "source": [
    "trainX, trainy = generate_timeseries_data(df, car_numbers, history_size=150, target_size=1, col_name=\"speed_scaled\", years=['2017', '2018'], train_ratio=0.2)"
   ]
  },
  {
   "cell_type": "code",
   "execution_count": 39,
   "metadata": {},
   "outputs": [
    {
     "name": "stdout",
     "output_type": "stream",
     "text": [
      "Model: \"sequential_4\"\n",
      "_________________________________________________________________\n",
      "Layer (type)                 Output Shape              Param #   \n",
      "=================================================================\n",
      "lstm_2 (LSTM)                (None, 64)                16896     \n",
      "_________________________________________________________________\n",
      "dropout_2 (Dropout)          (None, 64)                0         \n",
      "_________________________________________________________________\n",
      "repeat_vector_1 (RepeatVecto (None, 150, 64)           0         \n",
      "_________________________________________________________________\n",
      "lstm_3 (LSTM)                (None, 150, 64)           33024     \n",
      "_________________________________________________________________\n",
      "dropout_3 (Dropout)          (None, 150, 64)           0         \n",
      "_________________________________________________________________\n",
      "time_distributed_1 (TimeDist (None, 150, 1)            65        \n",
      "=================================================================\n",
      "Total params: 49,985\n",
      "Trainable params: 49,985\n",
      "Non-trainable params: 0\n",
      "_________________________________________________________________\n"
     ]
    }
   ],
   "source": [
    "# https://www.curiousily.com/posts/anomaly-detection-in-time-series-with-lstms-using-keras-in-python/\n",
    "model = keras.Sequential()\n",
    "model.add(keras.layers.LSTM(\n",
    "    units=64,\n",
    "    input_shape=(trainX.shape[1], trainX.shape[2])\n",
    "))\n",
    "model.add(keras.layers.Dropout(rate=0.2))\n",
    "model.add(keras.layers.RepeatVector(n=trainX.shape[1]))\n",
    "model.add(keras.layers.LSTM(units=64, return_sequences=True))\n",
    "model.add(keras.layers.Dropout(rate=0.2))\n",
    "model.add(\n",
    "  keras.layers.TimeDistributed(\n",
    "    keras.layers.Dense(units=trainX.shape[2])\n",
    "  )\n",
    ")\n",
    "model.compile(loss='mae', optimizer='adam')\n",
    "\n",
    "model.summary()"
   ]
  },
  {
   "cell_type": "code",
   "execution_count": 45,
   "metadata": {},
   "outputs": [
    {
     "name": "stdout",
     "output_type": "stream",
     "text": [
      "Train on 917787 samples, validate on 101977 samples\n",
      "Epoch 1/20\n",
      "917760/917787 [============================>.] - ETA: 0s - loss: 0.0098\n",
      "Epoch 00001: val_loss improved from inf to 0.00595, saving model to /scratch/LSTM-AD-IndyCar/checkpoints/speed\n",
      "WARNING:tensorflow:From /N/u/sakkas/softwares/anaconda3/envs/tf2.1/lib/python3.7/site-packages/tensorflow_core/python/ops/resource_variable_ops.py:1786: calling BaseResourceVariable.__init__ (from tensorflow.python.ops.resource_variable_ops) with constraint is deprecated and will be removed in a future version.\n",
      "Instructions for updating:\n",
      "If using Keras pass *_constraint arguments to layers.\n",
      "INFO:tensorflow:Assets written to: /scratch/LSTM-AD-IndyCar/checkpoints/speed/assets\n",
      "917787/917787 [==============================] - 1628s 2ms/sample - loss: 0.0098 - val_loss: 0.0059\n",
      "Epoch 2/20\n",
      "917760/917787 [============================>.] - ETA: 0s - loss: 0.0086\n",
      "Epoch 00002: val_loss improved from 0.00595 to 0.00547, saving model to /scratch/LSTM-AD-IndyCar/checkpoints/speed\n",
      "INFO:tensorflow:Assets written to: /scratch/LSTM-AD-IndyCar/checkpoints/speed/assets\n",
      "917787/917787 [==============================] - 1627s 2ms/sample - loss: 0.0086 - val_loss: 0.0055\n",
      "Epoch 3/20\n",
      "917760/917787 [============================>.] - ETA: 0s - loss: 0.0083\n",
      "Epoch 00003: val_loss improved from 0.00547 to 0.00459, saving model to /scratch/LSTM-AD-IndyCar/checkpoints/speed\n",
      "INFO:tensorflow:Assets written to: /scratch/LSTM-AD-IndyCar/checkpoints/speed/assets\n",
      "917787/917787 [==============================] - 1629s 2ms/sample - loss: 0.0083 - val_loss: 0.0046\n",
      "Epoch 4/20\n",
      "917760/917787 [============================>.] - ETA: 0s - loss: 0.0202\n",
      "Epoch 00004: val_loss did not improve from 0.00459\n",
      "917787/917787 [==============================] - 1609s 2ms/sample - loss: 0.0202 - val_loss: 0.0341\n",
      "Epoch 5/20\n",
      "917760/917787 [============================>.] - ETA: 0s - loss: 0.0521\n",
      "Epoch 00005: val_loss did not improve from 0.00459\n",
      "917787/917787 [==============================] - 1610s 2ms/sample - loss: 0.0521 - val_loss: 0.0396\n",
      "Epoch 6/20\n",
      "917760/917787 [============================>.] - ETA: 0s - loss: 0.0273\n",
      "Epoch 00006: val_loss did not improve from 0.00459\n",
      "917787/917787 [==============================] - 1608s 2ms/sample - loss: 0.0273 - val_loss: 0.0158\n",
      "Epoch 7/20\n",
      "917760/917787 [============================>.] - ETA: 0s - loss: 0.0361\n",
      "Epoch 00007: val_loss did not improve from 0.00459\n",
      "917787/917787 [==============================] - 1608s 2ms/sample - loss: 0.0361 - val_loss: 0.0518\n",
      "Epoch 8/20\n",
      "917760/917787 [============================>.] - ETA: 0s - loss: 0.0720\n",
      "Epoch 00008: val_loss did not improve from 0.00459\n",
      "917787/917787 [==============================] - 1614s 2ms/sample - loss: 0.0720 - val_loss: 0.0394\n",
      "Epoch 00008: early stopping\n"
     ]
    }
   ],
   "source": [
    "callbacks = [EarlyStopping(verbose=True, patience=5, monitor=\"val_loss\"),\n",
    "             ModelCheckpoint(\"/scratch/LSTM-AD-IndyCar/checkpoints/speed\", monitor=\"val_loss\", verbose=True, save_best_only=True)]\n",
    "history = model.fit(trainX, trainy, epochs=20, batch_size=32, callbacks=callbacks, validation_split=0.1, shuffle=True)"
   ]
  },
  {
   "cell_type": "code",
   "execution_count": 55,
   "metadata": {},
   "outputs": [
    {
     "data": {
      "text/plain": [
       "<matplotlib.legend.Legend at 0x7fe7936f8510>"
      ]
     },
     "execution_count": 55,
     "metadata": {},
     "output_type": "execute_result"
    },
    {
     "data": {
      "image/png": "[encoded data removed]",
      "text/plain": [
       "<Figure size 432x288 with 1 Axes>"
      ]
     },
     "metadata": {
      "needs_background": "light"
     },
     "output_type": "display_data"
    }
   ],
   "source": [
    "plt.plot(history.history['loss'])\n",
    "plt.plot(history.history['val_loss'])\n",
    "plt.legend(['training loss', 'validation loss'])"
   ]
  },
  {
   "cell_type": "markdown",
   "metadata": {},
   "source": [
    "Load best model from checkpoint"
   ]
  },
  {
   "cell_type": "code",
   "execution_count": 56,
   "metadata": {},
   "outputs": [],
   "source": [
    "best_speed_model = tf.keras.models.load_model('/scratch/LSTM-AD-IndyCar/checkpoints/speed/')"
   ]
  },
  {
   "cell_type": "code",
   "execution_count": 58,
   "metadata": {},
   "outputs": [
    {
     "name": "stdout",
     "output_type": "stream",
     "text": [
      "['12']\n"
     ]
    }
   ],
   "source": [
    "car12_X, car12_y = generate_timeseries_data(df, {'2017':['12']}, history_size=150, target_size=1, col_name=\"speed_scaled\", years=['2017'], train_ratio=1)"
   ]
  },
  {
   "cell_type": "code",
   "execution_count": 60,
   "metadata": {},
   "outputs": [],
   "source": [
    "car12_pred = best_speed_model.predict(car12_X)"
   ]
  },
  {
   "cell_type": "code",
   "execution_count": 61,
   "metadata": {},
   "outputs": [
    {
     "data": {
      "text/plain": [
       "(96750, 150, 1)"
      ]
     },
     "execution_count": 61,
     "metadata": {},
     "output_type": "execute_result"
    }
   ],
   "source": [
    "car12_pred.shape"
   ]
  },
  {
   "cell_type": "code",
   "execution_count": 64,
   "metadata": {},
   "outputs": [
    {
     "data": {
      "text/plain": [
       "(96750,)"
      ]
     },
     "execution_count": 64,
     "metadata": {},
     "output_type": "execute_result"
    }
   ],
   "source": [
    "car12_y.shape"
   ]
  },
  {
   "cell_type": "code",
   "execution_count": 62,
   "metadata": {},
   "outputs": [],
   "source": [
    "train_mae_loss = np.mean(np.abs(car12_pred - car12_X), axis=1)"
   ]
  },
  {
   "cell_type": "code",
   "execution_count": 63,
   "metadata": {},
   "outputs": [
    {
     "data": {
      "text/plain": [
       "[<matplotlib.lines.Line2D at 0x7fe791145550>]"
      ]
     },
     "execution_count": 63,
     "metadata": {},
     "output_type": "execute_result"
    },
    {
     "data": {
      "image/png": "[encoded data removed]",
      "text/plain": [
       "<Figure size 432x288 with 1 Axes>"
      ]
     },
     "metadata": {
      "needs_background": "light"
     },
     "output_type": "display_data"
    }
   ],
   "source": [
    "plt.plot(train_mae_loss)"
   ]
  },
  {
   "cell_type": "code",
   "execution_count": 67,
   "metadata": {},
   "outputs": [
    {
     "name": "stdout",
     "output_type": "stream",
     "text": [
      "INFO:tensorflow:Assets written to: serve_model/speed/1/assets\n"
     ]
    }
   ],
   "source": [
    "export_path = 'serve_model/speed/1/'\n",
    "best_speed_model.save('lstm-ad-speed_model.h5')\n",
    "\n",
    "tf.keras.models.save_model(\n",
    "    best_speed_model,\n",
    "    export_path,\n",
    "    overwrite=True,\n",
    "    include_optimizer=True,\n",
    "    save_format=None,\n",
    "    signatures=None,\n",
    "    options=None\n",
    ")"
   ]
  },
  {
   "cell_type": "code",
   "execution_count": 68,
   "metadata": {},
   "outputs": [
    {
     "name": "stdout",
     "output_type": "stream",
     "text": [
      "\n",
      "MetaGraphDef with tag-set: 'serve' contains the following SignatureDefs:\n",
      "\n",
      "signature_def['__saved_model_init_op']:\n",
      "  The given SavedModel SignatureDef contains the following input(s):\n",
      "  The given SavedModel SignatureDef contains the following output(s):\n",
      "    outputs['__saved_model_init_op'] tensor_info:\n",
      "        dtype: DT_INVALID\n",
      "        shape: unknown_rank\n",
      "        name: NoOp\n",
      "  Method name is: \n",
      "\n",
      "signature_def['serving_default']:\n",
      "  The given SavedModel SignatureDef contains the following input(s):\n",
      "    inputs['lstm_2_input'] tensor_info:\n",
      "        dtype: DT_FLOAT\n",
      "        shape: (-1, 150, 1)\n",
      "        name: serving_default_lstm_2_input:0\n",
      "  The given SavedModel SignatureDef contains the following output(s):\n",
      "    outputs['time_distributed_1'] tensor_info:\n",
      "        dtype: DT_FLOAT\n",
      "        shape: (-1, 150, 1)\n",
      "        name: StatefulPartitionedCall:0\n",
      "  Method name is: tensorflow/serving/predict\n",
      "WARNING:tensorflow:From /N/u/sakkas/softwares/anaconda3/envs/tf2.1/lib/python3.7/site-packages/tensorflow_core/python/ops/resource_variable_ops.py:1786: calling BaseResourceVariable.__init__ (from tensorflow.python.ops.resource_variable_ops) with constraint is deprecated and will be removed in a future version.\n",
      "Instructions for updating:\n",
      "If using Keras pass *_constraint arguments to layers.\n",
      "\n",
      "Defined Functions:\n",
      "  Function Name: '__call__'\n",
      "    Option #1\n",
      "      Callable with:\n",
      "        Argument #1\n",
      "          lstm_2_input: TensorSpec(shape=(None, 150, 1), dtype=tf.float32, name='lstm_2_input')\n",
      "        Argument #2\n",
      "          DType: bool\n",
      "          Value: False\n",
      "        Argument #3\n",
      "          DType: NoneType\n",
      "          Value: None\n",
      "    Option #2\n",
      "      Callable with:\n",
      "        Argument #1\n",
      "          lstm_2_input: TensorSpec(shape=(None, 150, 1), dtype=tf.float32, name='lstm_2_input')\n",
      "        Argument #2\n",
      "          DType: bool\n",
      "          Value: True\n",
      "        Argument #3\n",
      "          DType: NoneType\n",
      "          Value: None\n",
      "\n",
      "  Function Name: '_default_save_signature'\n",
      "    Option #1\n",
      "      Callable with:\n",
      "        Argument #1\n",
      "          lstm_2_input: TensorSpec(shape=(None, 150, 1), dtype=tf.float32, name='lstm_2_input')\n",
      "\n",
      "  Function Name: 'call_and_return_all_conditional_losses'\n",
      "    Option #1\n",
      "      Callable with:\n",
      "        Argument #1\n",
      "          lstm_2_input: TensorSpec(shape=(None, 150, 1), dtype=tf.float32, name='lstm_2_input')\n",
      "        Argument #2\n",
      "          DType: bool\n",
      "          Value: False\n",
      "        Argument #3\n",
      "          DType: NoneType\n",
      "          Value: None\n",
      "    Option #2\n",
      "      Callable with:\n",
      "        Argument #1\n",
      "          lstm_2_input: TensorSpec(shape=(None, 150, 1), dtype=tf.float32, name='lstm_2_input')\n",
      "        Argument #2\n",
      "          DType: bool\n",
      "          Value: True\n",
      "        Argument #3\n",
      "          DType: NoneType\n",
      "          Value: None\n"
     ]
    }
   ],
   "source": [
    "!saved_model_cli show --dir {export_path} --all"
   ]
  },
  {
   "cell_type": "markdown",
   "metadata": {},
   "source": [
    "# RPM Model"
   ]
  },
  {
   "cell_type": "code",
   "execution_count": 69,
   "metadata": {},
   "outputs": [
    {
     "data": {
      "text/html": [
       "<div>\n",
       "<style scoped>\n",
       "    .dataframe tbody tr th:only-of-type {\n",
       "        vertical-align: middle;\n",
       "    }\n",
       "\n",
       "    .dataframe tbody tr th {\n",
       "        vertical-align: top;\n",
       "    }\n",
       "\n",
       "    .dataframe thead th {\n",
       "        text-align: right;\n",
       "    }\n",
       "</style>\n",
       "<table border=\"1\" class=\"dataframe\">\n",
       "  <thead>\n",
       "    <tr style=\"text-align: right;\">\n",
       "      <th></th>\n",
       "      <th>car_number</th>\n",
       "      <th>time_of_day</th>\n",
       "      <th>engine_speed</th>\n",
       "      <th>year</th>\n",
       "    </tr>\n",
       "  </thead>\n",
       "  <tbody>\n",
       "    <tr>\n",
       "      <th>0</th>\n",
       "      <td>21</td>\n",
       "      <td>16:23:00.010</td>\n",
       "      <td>3297.0</td>\n",
       "      <td>2017</td>\n",
       "    </tr>\n",
       "    <tr>\n",
       "      <th>1</th>\n",
       "      <td>50</td>\n",
       "      <td>16:23:00.019</td>\n",
       "      <td>5187.0</td>\n",
       "      <td>2017</td>\n",
       "    </tr>\n",
       "    <tr>\n",
       "      <th>2</th>\n",
       "      <td>63</td>\n",
       "      <td>16:23:00.023</td>\n",
       "      <td>4914.0</td>\n",
       "      <td>2017</td>\n",
       "    </tr>\n",
       "    <tr>\n",
       "      <th>3</th>\n",
       "      <td>77</td>\n",
       "      <td>16:23:00.034</td>\n",
       "      <td>6744.0</td>\n",
       "      <td>2017</td>\n",
       "    </tr>\n",
       "    <tr>\n",
       "      <th>4</th>\n",
       "      <td>1</td>\n",
       "      <td>16:23:00.064</td>\n",
       "      <td>3356.0</td>\n",
       "      <td>2017</td>\n",
       "    </tr>\n",
       "    <tr>\n",
       "      <th>...</th>\n",
       "      <td>...</td>\n",
       "      <td>...</td>\n",
       "      <td>...</td>\n",
       "      <td>...</td>\n",
       "    </tr>\n",
       "    <tr>\n",
       "      <th>5939908</th>\n",
       "      <td>88</td>\n",
       "      <td>19:25:06.649</td>\n",
       "      <td>0.0</td>\n",
       "      <td>2018</td>\n",
       "    </tr>\n",
       "    <tr>\n",
       "      <th>5939909</th>\n",
       "      <td>98</td>\n",
       "      <td>19:25:06.657</td>\n",
       "      <td>0.0</td>\n",
       "      <td>2018</td>\n",
       "    </tr>\n",
       "    <tr>\n",
       "      <th>5939910</th>\n",
       "      <td>S1</td>\n",
       "      <td>19:25:06.661</td>\n",
       "      <td>0.0</td>\n",
       "      <td>2018</td>\n",
       "    </tr>\n",
       "    <tr>\n",
       "      <th>5939911</th>\n",
       "      <td>S2</td>\n",
       "      <td>19:25:06.579</td>\n",
       "      <td>0.0</td>\n",
       "      <td>2018</td>\n",
       "    </tr>\n",
       "    <tr>\n",
       "      <th>5939912</th>\n",
       "      <td>S3</td>\n",
       "      <td>19:25:06.650</td>\n",
       "      <td>0.0</td>\n",
       "      <td>2018</td>\n",
       "    </tr>\n",
       "  </tbody>\n",
       "</table>\n",
       "<p>5939913 rows × 4 columns</p>\n",
       "</div>"
      ],
      "text/plain": [
       "        car_number   time_of_day  engine_speed  year\n",
       "0               21  16:23:00.010        3297.0  2017\n",
       "1               50  16:23:00.019        5187.0  2017\n",
       "2               63  16:23:00.023        4914.0  2017\n",
       "3               77  16:23:00.034        6744.0  2017\n",
       "4                1  16:23:00.064        3356.0  2017\n",
       "...            ...           ...           ...   ...\n",
       "5939908         88  19:25:06.649           0.0  2018\n",
       "5939909         98  19:25:06.657           0.0  2018\n",
       "5939910         S1  19:25:06.661           0.0  2018\n",
       "5939911         S2  19:25:06.579           0.0  2018\n",
       "5939912         S3  19:25:06.650           0.0  2018\n",
       "\n",
       "[5939913 rows x 4 columns]"
      ]
     },
     "execution_count": 69,
     "metadata": {},
     "output_type": "execute_result"
    }
   ],
   "source": [
    "df =list(telemetry.find({'series':'Indy500'}, {\"car_number\":1, \"time_of_day\":1, \"year\":1, \"engine_speed\":1, \"_id\":0}))\n",
    "df = pd.DataFrame(df)\n",
    "df"
   ]
  },
  {
   "cell_type": "code",
   "execution_count": 70,
   "metadata": {},
   "outputs": [
    {
     "name": "stdout",
     "output_type": "stream",
     "text": [
      "rpm min: 0, rpm max: 13217\n"
     ]
    },
    {
     "data": {
      "text/html": [
       "<div>\n",
       "<style scoped>\n",
       "    .dataframe tbody tr th:only-of-type {\n",
       "        vertical-align: middle;\n",
       "    }\n",
       "\n",
       "    .dataframe tbody tr th {\n",
       "        vertical-align: top;\n",
       "    }\n",
       "\n",
       "    .dataframe thead th {\n",
       "        text-align: right;\n",
       "    }\n",
       "</style>\n",
       "<table border=\"1\" class=\"dataframe\">\n",
       "  <thead>\n",
       "    <tr style=\"text-align: right;\">\n",
       "      <th></th>\n",
       "      <th>car_number</th>\n",
       "      <th>time_of_day</th>\n",
       "      <th>engine_speed</th>\n",
       "      <th>year</th>\n",
       "      <th>rpm_scaled</th>\n",
       "    </tr>\n",
       "  </thead>\n",
       "  <tbody>\n",
       "    <tr>\n",
       "      <th>0</th>\n",
       "      <td>21</td>\n",
       "      <td>16:23:00.010</td>\n",
       "      <td>3297.0</td>\n",
       "      <td>2017</td>\n",
       "      <td>0.249451</td>\n",
       "    </tr>\n",
       "    <tr>\n",
       "      <th>1</th>\n",
       "      <td>50</td>\n",
       "      <td>16:23:00.019</td>\n",
       "      <td>5187.0</td>\n",
       "      <td>2017</td>\n",
       "      <td>0.392449</td>\n",
       "    </tr>\n",
       "    <tr>\n",
       "      <th>2</th>\n",
       "      <td>63</td>\n",
       "      <td>16:23:00.023</td>\n",
       "      <td>4914.0</td>\n",
       "      <td>2017</td>\n",
       "      <td>0.371794</td>\n",
       "    </tr>\n",
       "    <tr>\n",
       "      <th>3</th>\n",
       "      <td>77</td>\n",
       "      <td>16:23:00.034</td>\n",
       "      <td>6744.0</td>\n",
       "      <td>2017</td>\n",
       "      <td>0.510252</td>\n",
       "    </tr>\n",
       "    <tr>\n",
       "      <th>4</th>\n",
       "      <td>1</td>\n",
       "      <td>16:23:00.064</td>\n",
       "      <td>3356.0</td>\n",
       "      <td>2017</td>\n",
       "      <td>0.253915</td>\n",
       "    </tr>\n",
       "    <tr>\n",
       "      <th>...</th>\n",
       "      <td>...</td>\n",
       "      <td>...</td>\n",
       "      <td>...</td>\n",
       "      <td>...</td>\n",
       "      <td>...</td>\n",
       "    </tr>\n",
       "    <tr>\n",
       "      <th>5939908</th>\n",
       "      <td>88</td>\n",
       "      <td>19:25:06.649</td>\n",
       "      <td>0.0</td>\n",
       "      <td>2018</td>\n",
       "      <td>0.000000</td>\n",
       "    </tr>\n",
       "    <tr>\n",
       "      <th>5939909</th>\n",
       "      <td>98</td>\n",
       "      <td>19:25:06.657</td>\n",
       "      <td>0.0</td>\n",
       "      <td>2018</td>\n",
       "      <td>0.000000</td>\n",
       "    </tr>\n",
       "    <tr>\n",
       "      <th>5939910</th>\n",
       "      <td>S1</td>\n",
       "      <td>19:25:06.661</td>\n",
       "      <td>0.0</td>\n",
       "      <td>2018</td>\n",
       "      <td>0.000000</td>\n",
       "    </tr>\n",
       "    <tr>\n",
       "      <th>5939911</th>\n",
       "      <td>S2</td>\n",
       "      <td>19:25:06.579</td>\n",
       "      <td>0.0</td>\n",
       "      <td>2018</td>\n",
       "      <td>0.000000</td>\n",
       "    </tr>\n",
       "    <tr>\n",
       "      <th>5939912</th>\n",
       "      <td>S3</td>\n",
       "      <td>19:25:06.650</td>\n",
       "      <td>0.0</td>\n",
       "      <td>2018</td>\n",
       "      <td>0.000000</td>\n",
       "    </tr>\n",
       "  </tbody>\n",
       "</table>\n",
       "<p>5939913 rows × 5 columns</p>\n",
       "</div>"
      ],
      "text/plain": [
       "        car_number   time_of_day  engine_speed  year  rpm_scaled\n",
       "0               21  16:23:00.010        3297.0  2017    0.249451\n",
       "1               50  16:23:00.019        5187.0  2017    0.392449\n",
       "2               63  16:23:00.023        4914.0  2017    0.371794\n",
       "3               77  16:23:00.034        6744.0  2017    0.510252\n",
       "4                1  16:23:00.064        3356.0  2017    0.253915\n",
       "...            ...           ...           ...   ...         ...\n",
       "5939908         88  19:25:06.649           0.0  2018    0.000000\n",
       "5939909         98  19:25:06.657           0.0  2018    0.000000\n",
       "5939910         S1  19:25:06.661           0.0  2018    0.000000\n",
       "5939911         S2  19:25:06.579           0.0  2018    0.000000\n",
       "5939912         S3  19:25:06.650           0.0  2018    0.000000\n",
       "\n",
       "[5939913 rows x 5 columns]"
      ]
     },
     "execution_count": 70,
     "metadata": {},
     "output_type": "execute_result"
    }
   ],
   "source": [
    "rpmmax = np.round(df.engine_speed.max())\n",
    "rpmmin = 0\n",
    "print('rpm min: %d, rpm max: %d' % (rpmmin, rpmmax))\n",
    "df['rpm_scaled'] = (df['engine_speed'] - rpmmin) / (rpmmax - rpmmin)\n",
    "df"
   ]
  },
  {
   "cell_type": "code",
   "execution_count": 71,
   "metadata": {},
   "outputs": [
    {
     "name": "stdout",
     "output_type": "stream",
     "text": [
      "['21', '50', '63', '77', '1', '2', '4', '8', '9', '11', '12', '18', '19', '20', '24', '40', '44', '88', '98', '15', '28', '10', '14', '26', '29', '7', '17', '22', '27', '3', '83', '5', '16']\n",
      "['19', '22', '23', '24', '26', '27', '29', '32', '33', '59', '60', '64', '88', '1', '4', '6', '7', '10', '13', '14', '15', '17', '18', '20', '21', '25', '98', '3', '9', '28', '12', '30', '66']\n"
     ]
    }
   ],
   "source": [
    "trainX, trainy = generate_timeseries_data(df, car_numbers, history_size=150, target_size=1, col_name=\"rpm_scaled\", years=['2017', '2018'], train_ratio=0.2)"
   ]
  },
  {
   "cell_type": "code",
   "execution_count": 72,
   "metadata": {},
   "outputs": [
    {
     "name": "stdout",
     "output_type": "stream",
     "text": [
      "Model: \"sequential_4\"\n",
      "_________________________________________________________________\n",
      "Layer (type)                 Output Shape              Param #   \n",
      "=================================================================\n",
      "lstm_2 (LSTM)                (None, 64)                16896     \n",
      "_________________________________________________________________\n",
      "dropout_2 (Dropout)          (None, 64)                0         \n",
      "_________________________________________________________________\n",
      "repeat_vector_1 (RepeatVecto (None, 150, 64)           0         \n",
      "_________________________________________________________________\n",
      "lstm_3 (LSTM)                (None, 150, 64)           33024     \n",
      "_________________________________________________________________\n",
      "dropout_3 (Dropout)          (None, 150, 64)           0         \n",
      "_________________________________________________________________\n",
      "time_distributed_1 (TimeDist (None, 150, 1)            65        \n",
      "=================================================================\n",
      "Total params: 49,985\n",
      "Trainable params: 49,985\n",
      "Non-trainable params: 0\n",
      "_________________________________________________________________\n"
     ]
    }
   ],
   "source": [
    "model.compile(loss='mae', optimizer='adam')\n",
    "model.summary()"
   ]
  },
  {
   "cell_type": "code",
   "execution_count": 74,
   "metadata": {},
   "outputs": [
    {
     "name": "stdout",
     "output_type": "stream",
     "text": [
      "Train on 917787 samples, validate on 101977 samples\n",
      "Epoch 1/20\n",
      "917760/917787 [============================>.] - ETA: 0s - loss: 0.0550\n",
      "Epoch 00001: val_loss improved from inf to 0.05713, saving model to /scratch/LSTM-AD-IndyCar/checkpoints/rpm\n",
      "INFO:tensorflow:Assets written to: /scratch/LSTM-AD-IndyCar/checkpoints/rpm/assets\n",
      "917787/917787 [==============================] - 1629s 2ms/sample - loss: 0.0550 - val_loss: 0.0571\n",
      "Epoch 2/20\n",
      "917760/917787 [============================>.] - ETA: 0s - loss: 0.0458\n",
      "Epoch 00002: val_loss improved from 0.05713 to 0.01465, saving model to /scratch/LSTM-AD-IndyCar/checkpoints/rpm\n",
      "INFO:tensorflow:Assets written to: /scratch/LSTM-AD-IndyCar/checkpoints/rpm/assets\n",
      "917787/917787 [==============================] - 1626s 2ms/sample - loss: 0.0458 - val_loss: 0.0147\n",
      "Epoch 3/20\n",
      "917760/917787 [============================>.] - ETA: 0s - loss: 0.0139\n",
      "Epoch 00003: val_loss improved from 0.01465 to 0.01057, saving model to /scratch/LSTM-AD-IndyCar/checkpoints/rpm\n",
      "INFO:tensorflow:Assets written to: /scratch/LSTM-AD-IndyCar/checkpoints/rpm/assets\n",
      "917787/917787 [==============================] - 1628s 2ms/sample - loss: 0.0139 - val_loss: 0.0106\n",
      "Epoch 4/20\n",
      "649408/917787 [====================>.........] - ETA: 7:36 - loss: 0.0106"
     ]
    },
    {
     "name": "stderr",
     "output_type": "stream",
     "text": [
      "IOPub message rate exceeded.\n",
      "The notebook server will temporarily stop sending output\n",
      "to the client in order to avoid crashing it.\n",
      "To change this limit, set the config variable\n",
      "`--NotebookApp.iopub_msg_rate_limit`.\n",
      "\n",
      "Current values:\n",
      "NotebookApp.iopub_msg_rate_limit=1000.0 (msgs/sec)\n",
      "NotebookApp.rate_limit_window=3.0 (secs)\n",
      "\n"
     ]
    },
    {
     "name": "stdout",
     "output_type": "stream",
     "text": [
      "917760/917787 [============================>.] - ETA: 0s - loss: 0.0104\n",
      "Epoch 00004: val_loss did not improve from 0.01057\n",
      "917787/917787 [==============================] - 1622s 2ms/sample - loss: 0.0104 - val_loss: 0.0129\n",
      "Epoch 5/20\n",
      "682144/917787 [=====================>........] - ETA: 6:40 - loss: 0.0218"
     ]
    },
    {
     "name": "stderr",
     "output_type": "stream",
     "text": [
      "IOPub message rate exceeded.\n",
      "The notebook server will temporarily stop sending output\n",
      "to the client in order to avoid crashing it.\n",
      "To change this limit, set the config variable\n",
      "`--NotebookApp.iopub_msg_rate_limit`.\n",
      "\n",
      "Current values:\n",
      "NotebookApp.iopub_msg_rate_limit=1000.0 (msgs/sec)\n",
      "NotebookApp.rate_limit_window=3.0 (secs)\n",
      "\n"
     ]
    },
    {
     "name": "stdout",
     "output_type": "stream",
     "text": [
      "866528/917787 [===========================>..] - ETA: 1:27 - loss: 0.0257"
     ]
    },
    {
     "name": "stderr",
     "output_type": "stream",
     "text": [
      "IOPub message rate exceeded.\n",
      "The notebook server will temporarily stop sending output\n",
      "to the client in order to avoid crashing it.\n",
      "To change this limit, set the config variable\n",
      "`--NotebookApp.iopub_msg_rate_limit`.\n",
      "\n",
      "Current values:\n",
      "NotebookApp.iopub_msg_rate_limit=1000.0 (msgs/sec)\n",
      "NotebookApp.rate_limit_window=3.0 (secs)\n",
      "\n"
     ]
    },
    {
     "name": "stdout",
     "output_type": "stream",
     "text": [
      "917760/917787 [============================>.] - ETA: 0s - loss: 0.0272\n",
      "Epoch 00005: val_loss did not improve from 0.01057\n",
      "917787/917787 [==============================] - 1622s 2ms/sample - loss: 0.0272 - val_loss: 0.0438\n",
      "Epoch 6/20\n",
      "917760/917787 [============================>.] - ETA: 0s - loss: 0.0655\n",
      "Epoch 00006: val_loss did not improve from 0.01057\n",
      "917787/917787 [==============================] - 1620s 2ms/sample - loss: 0.0655 - val_loss: 0.0545\n",
      "Epoch 00006: early stopping\n"
     ]
    }
   ],
   "source": [
    "callbacks = [EarlyStopping(verbose=True, patience=3, monitor=\"val_loss\"),\n",
    "             ModelCheckpoint(\"/scratch/LSTM-AD-IndyCar/checkpoints/rpm\", monitor=\"val_loss\", verbose=True, save_best_only=True)]\n",
    "history = model.fit(trainX, trainy, epochs=20, batch_size=32, callbacks=callbacks, validation_split=0.1, shuffle=True)"
   ]
  },
  {
   "cell_type": "code",
   "execution_count": 78,
   "metadata": {},
   "outputs": [],
   "source": [
    "best_rpm_model = tf.keras.models.load_model('/scratch/LSTM-AD-IndyCar/checkpoints/rpm/')"
   ]
  },
  {
   "cell_type": "code",
   "execution_count": 79,
   "metadata": {},
   "outputs": [
    {
     "name": "stdout",
     "output_type": "stream",
     "text": [
      "['12']\n"
     ]
    },
    {
     "data": {
      "text/plain": [
       "[<matplotlib.lines.Line2D at 0x7fe78f03c310>]"
      ]
     },
     "execution_count": 79,
     "metadata": {},
     "output_type": "execute_result"
    },
    {
     "data": {
      "image/png": "[encoded data removed]",
      "text/plain": [
       "<Figure size 432x288 with 1 Axes>"
      ]
     },
     "metadata": {
      "needs_background": "light"
     },
     "output_type": "display_data"
    }
   ],
   "source": [
    "car12_X, car12_y = generate_timeseries_data(df, {'2017':['12']}, history_size=150, target_size=1, col_name=\"rpm_scaled\", years=['2017'], train_ratio=1)\n",
    "car12_pred = best_rpm_model.predict(car12_X)\n",
    "train_mae_loss = np.mean(np.abs(car12_pred - car12_X), axis=1)\n",
    "plt.plot(train_mae_loss)"
   ]
  },
  {
   "cell_type": "code",
   "execution_count": 80,
   "metadata": {},
   "outputs": [
    {
     "name": "stdout",
     "output_type": "stream",
     "text": [
      "INFO:tensorflow:Assets written to: serve_model/rpm/1/assets\n"
     ]
    }
   ],
   "source": [
    "export_path = 'serve_model/rpm/1/'\n",
    "best_speed_model.save('lstm-ad-rpm_model.h5')\n",
    "\n",
    "tf.keras.models.save_model(\n",
    "    best_speed_model,\n",
    "    export_path,\n",
    "    overwrite=True,\n",
    "    include_optimizer=True,\n",
    "    save_format=None,\n",
    "    signatures=None,\n",
    "    options=None\n",
    ")"
   ]
  },
  {
   "cell_type": "code",
   "execution_count": 81,
   "metadata": {},
   "outputs": [
    {
     "name": "stdout",
     "output_type": "stream",
     "text": [
      "\n",
      "MetaGraphDef with tag-set: 'serve' contains the following SignatureDefs:\n",
      "\n",
      "signature_def['__saved_model_init_op']:\n",
      "  The given SavedModel SignatureDef contains the following input(s):\n",
      "  The given SavedModel SignatureDef contains the following output(s):\n",
      "    outputs['__saved_model_init_op'] tensor_info:\n",
      "        dtype: DT_INVALID\n",
      "        shape: unknown_rank\n",
      "        name: NoOp\n",
      "  Method name is: \n",
      "\n",
      "signature_def['serving_default']:\n",
      "  The given SavedModel SignatureDef contains the following input(s):\n",
      "    inputs['lstm_2_input'] tensor_info:\n",
      "        dtype: DT_FLOAT\n",
      "        shape: (-1, 150, 1)\n",
      "        name: serving_default_lstm_2_input:0\n",
      "  The given SavedModel SignatureDef contains the following output(s):\n",
      "    outputs['time_distributed_1'] tensor_info:\n",
      "        dtype: DT_FLOAT\n",
      "        shape: (-1, 150, 1)\n",
      "        name: StatefulPartitionedCall:0\n",
      "  Method name is: tensorflow/serving/predict\n",
      "WARNING:tensorflow:From /N/u/sakkas/softwares/anaconda3/envs/tf2.1/lib/python3.7/site-packages/tensorflow_core/python/ops/resource_variable_ops.py:1786: calling BaseResourceVariable.__init__ (from tensorflow.python.ops.resource_variable_ops) with constraint is deprecated and will be removed in a future version.\n",
      "Instructions for updating:\n",
      "If using Keras pass *_constraint arguments to layers.\n",
      "\n",
      "Defined Functions:\n",
      "  Function Name: '__call__'\n",
      "    Option #1\n",
      "      Callable with:\n",
      "        Argument #1\n",
      "          lstm_2_input: TensorSpec(shape=(None, 150, 1), dtype=tf.float32, name='lstm_2_input')\n",
      "        Argument #2\n",
      "          DType: bool\n",
      "          Value: False\n",
      "        Argument #3\n",
      "          DType: NoneType\n",
      "          Value: None\n",
      "    Option #2\n",
      "      Callable with:\n",
      "        Argument #1\n",
      "          lstm_2_input: TensorSpec(shape=(None, 150, 1), dtype=tf.float32, name='lstm_2_input')\n",
      "        Argument #2\n",
      "          DType: bool\n",
      "          Value: True\n",
      "        Argument #3\n",
      "          DType: NoneType\n",
      "          Value: None\n",
      "\n",
      "  Function Name: '_default_save_signature'\n",
      "    Option #1\n",
      "      Callable with:\n",
      "        Argument #1\n",
      "          lstm_2_input: TensorSpec(shape=(None, 150, 1), dtype=tf.float32, name='lstm_2_input')\n",
      "\n",
      "  Function Name: 'call_and_return_all_conditional_losses'\n",
      "    Option #1\n",
      "      Callable with:\n",
      "        Argument #1\n",
      "          lstm_2_input: TensorSpec(shape=(None, 150, 1), dtype=tf.float32, name='lstm_2_input')\n",
      "        Argument #2\n",
      "          DType: bool\n",
      "          Value: False\n",
      "        Argument #3\n",
      "          DType: NoneType\n",
      "          Value: None\n",
      "    Option #2\n",
      "      Callable with:\n",
      "        Argument #1\n",
      "          lstm_2_input: TensorSpec(shape=(None, 150, 1), dtype=tf.float32, name='lstm_2_input')\n",
      "        Argument #2\n",
      "          DType: bool\n",
      "          Value: True\n",
      "        Argument #3\n",
      "          DType: NoneType\n",
      "          Value: None\n"
     ]
    }
   ],
   "source": [
    "!saved_model_cli show --dir {export_path} --all"
   ]
  },
  {
   "cell_type": "markdown",
   "metadata": {},
   "source": [
    "# Throttle Model"
   ]
  },
  {
   "cell_type": "code",
   "execution_count": 82,
   "metadata": {},
   "outputs": [
    {
     "data": {
      "text/html": [
       "<div>\n",
       "<style scoped>\n",
       "    .dataframe tbody tr th:only-of-type {\n",
       "        vertical-align: middle;\n",
       "    }\n",
       "\n",
       "    .dataframe tbody tr th {\n",
       "        vertical-align: top;\n",
       "    }\n",
       "\n",
       "    .dataframe thead th {\n",
       "        text-align: right;\n",
       "    }\n",
       "</style>\n",
       "<table border=\"1\" class=\"dataframe\">\n",
       "  <thead>\n",
       "    <tr style=\"text-align: right;\">\n",
       "      <th></th>\n",
       "      <th>car_number</th>\n",
       "      <th>time_of_day</th>\n",
       "      <th>throttle</th>\n",
       "      <th>year</th>\n",
       "    </tr>\n",
       "  </thead>\n",
       "  <tbody>\n",
       "    <tr>\n",
       "      <th>0</th>\n",
       "      <td>21</td>\n",
       "      <td>16:23:00.010</td>\n",
       "      <td>4.0</td>\n",
       "      <td>2017</td>\n",
       "    </tr>\n",
       "    <tr>\n",
       "      <th>1</th>\n",
       "      <td>50</td>\n",
       "      <td>16:23:00.019</td>\n",
       "      <td>20.0</td>\n",
       "      <td>2017</td>\n",
       "    </tr>\n",
       "    <tr>\n",
       "      <th>2</th>\n",
       "      <td>63</td>\n",
       "      <td>16:23:00.023</td>\n",
       "      <td>73.0</td>\n",
       "      <td>2017</td>\n",
       "    </tr>\n",
       "    <tr>\n",
       "      <th>3</th>\n",
       "      <td>77</td>\n",
       "      <td>16:23:00.034</td>\n",
       "      <td>24.0</td>\n",
       "      <td>2017</td>\n",
       "    </tr>\n",
       "    <tr>\n",
       "      <th>4</th>\n",
       "      <td>1</td>\n",
       "      <td>16:23:00.064</td>\n",
       "      <td>9.5</td>\n",
       "      <td>2017</td>\n",
       "    </tr>\n",
       "    <tr>\n",
       "      <th>...</th>\n",
       "      <td>...</td>\n",
       "      <td>...</td>\n",
       "      <td>...</td>\n",
       "      <td>...</td>\n",
       "    </tr>\n",
       "    <tr>\n",
       "      <th>5939908</th>\n",
       "      <td>88</td>\n",
       "      <td>19:25:06.649</td>\n",
       "      <td>0.0</td>\n",
       "      <td>2018</td>\n",
       "    </tr>\n",
       "    <tr>\n",
       "      <th>5939909</th>\n",
       "      <td>98</td>\n",
       "      <td>19:25:06.657</td>\n",
       "      <td>5.5</td>\n",
       "      <td>2018</td>\n",
       "    </tr>\n",
       "    <tr>\n",
       "      <th>5939910</th>\n",
       "      <td>S1</td>\n",
       "      <td>19:25:06.661</td>\n",
       "      <td>0.0</td>\n",
       "      <td>2018</td>\n",
       "    </tr>\n",
       "    <tr>\n",
       "      <th>5939911</th>\n",
       "      <td>S2</td>\n",
       "      <td>19:25:06.579</td>\n",
       "      <td>0.0</td>\n",
       "      <td>2018</td>\n",
       "    </tr>\n",
       "    <tr>\n",
       "      <th>5939912</th>\n",
       "      <td>S3</td>\n",
       "      <td>19:25:06.650</td>\n",
       "      <td>0.0</td>\n",
       "      <td>2018</td>\n",
       "    </tr>\n",
       "  </tbody>\n",
       "</table>\n",
       "<p>5939913 rows × 4 columns</p>\n",
       "</div>"
      ],
      "text/plain": [
       "        car_number   time_of_day  throttle  year\n",
       "0               21  16:23:00.010       4.0  2017\n",
       "1               50  16:23:00.019      20.0  2017\n",
       "2               63  16:23:00.023      73.0  2017\n",
       "3               77  16:23:00.034      24.0  2017\n",
       "4                1  16:23:00.064       9.5  2017\n",
       "...            ...           ...       ...   ...\n",
       "5939908         88  19:25:06.649       0.0  2018\n",
       "5939909         98  19:25:06.657       5.5  2018\n",
       "5939910         S1  19:25:06.661       0.0  2018\n",
       "5939911         S2  19:25:06.579       0.0  2018\n",
       "5939912         S3  19:25:06.650       0.0  2018\n",
       "\n",
       "[5939913 rows x 4 columns]"
      ]
     },
     "execution_count": 82,
     "metadata": {},
     "output_type": "execute_result"
    }
   ],
   "source": [
    "df =list(telemetry.find({'series':'Indy500'}, {\"car_number\":1, \"time_of_day\":1, \"year\":1, \"throttle\":1, \"_id\":0}))\n",
    "df = pd.DataFrame(df)\n",
    "df"
   ]
  },
  {
   "cell_type": "code",
   "execution_count": 83,
   "metadata": {},
   "outputs": [
    {
     "name": "stdout",
     "output_type": "stream",
     "text": [
      "throttle min: 0, throttle max: 117\n"
     ]
    },
    {
     "data": {
      "text/html": [
       "<div>\n",
       "<style scoped>\n",
       "    .dataframe tbody tr th:only-of-type {\n",
       "        vertical-align: middle;\n",
       "    }\n",
       "\n",
       "    .dataframe tbody tr th {\n",
       "        vertical-align: top;\n",
       "    }\n",
       "\n",
       "    .dataframe thead th {\n",
       "        text-align: right;\n",
       "    }\n",
       "</style>\n",
       "<table border=\"1\" class=\"dataframe\">\n",
       "  <thead>\n",
       "    <tr style=\"text-align: right;\">\n",
       "      <th></th>\n",
       "      <th>car_number</th>\n",
       "      <th>time_of_day</th>\n",
       "      <th>throttle</th>\n",
       "      <th>year</th>\n",
       "      <th>throttle_scaled</th>\n",
       "    </tr>\n",
       "  </thead>\n",
       "  <tbody>\n",
       "    <tr>\n",
       "      <th>0</th>\n",
       "      <td>21</td>\n",
       "      <td>16:23:00.010</td>\n",
       "      <td>4.0</td>\n",
       "      <td>2017</td>\n",
       "      <td>0.034188</td>\n",
       "    </tr>\n",
       "    <tr>\n",
       "      <th>1</th>\n",
       "      <td>50</td>\n",
       "      <td>16:23:00.019</td>\n",
       "      <td>20.0</td>\n",
       "      <td>2017</td>\n",
       "      <td>0.170940</td>\n",
       "    </tr>\n",
       "    <tr>\n",
       "      <th>2</th>\n",
       "      <td>63</td>\n",
       "      <td>16:23:00.023</td>\n",
       "      <td>73.0</td>\n",
       "      <td>2017</td>\n",
       "      <td>0.623932</td>\n",
       "    </tr>\n",
       "    <tr>\n",
       "      <th>3</th>\n",
       "      <td>77</td>\n",
       "      <td>16:23:00.034</td>\n",
       "      <td>24.0</td>\n",
       "      <td>2017</td>\n",
       "      <td>0.205128</td>\n",
       "    </tr>\n",
       "    <tr>\n",
       "      <th>4</th>\n",
       "      <td>1</td>\n",
       "      <td>16:23:00.064</td>\n",
       "      <td>9.5</td>\n",
       "      <td>2017</td>\n",
       "      <td>0.081197</td>\n",
       "    </tr>\n",
       "    <tr>\n",
       "      <th>...</th>\n",
       "      <td>...</td>\n",
       "      <td>...</td>\n",
       "      <td>...</td>\n",
       "      <td>...</td>\n",
       "      <td>...</td>\n",
       "    </tr>\n",
       "    <tr>\n",
       "      <th>5939908</th>\n",
       "      <td>88</td>\n",
       "      <td>19:25:06.649</td>\n",
       "      <td>0.0</td>\n",
       "      <td>2018</td>\n",
       "      <td>0.000000</td>\n",
       "    </tr>\n",
       "    <tr>\n",
       "      <th>5939909</th>\n",
       "      <td>98</td>\n",
       "      <td>19:25:06.657</td>\n",
       "      <td>5.5</td>\n",
       "      <td>2018</td>\n",
       "      <td>0.047009</td>\n",
       "    </tr>\n",
       "    <tr>\n",
       "      <th>5939910</th>\n",
       "      <td>S1</td>\n",
       "      <td>19:25:06.661</td>\n",
       "      <td>0.0</td>\n",
       "      <td>2018</td>\n",
       "      <td>0.000000</td>\n",
       "    </tr>\n",
       "    <tr>\n",
       "      <th>5939911</th>\n",
       "      <td>S2</td>\n",
       "      <td>19:25:06.579</td>\n",
       "      <td>0.0</td>\n",
       "      <td>2018</td>\n",
       "      <td>0.000000</td>\n",
       "    </tr>\n",
       "    <tr>\n",
       "      <th>5939912</th>\n",
       "      <td>S3</td>\n",
       "      <td>19:25:06.650</td>\n",
       "      <td>0.0</td>\n",
       "      <td>2018</td>\n",
       "      <td>0.000000</td>\n",
       "    </tr>\n",
       "  </tbody>\n",
       "</table>\n",
       "<p>5939913 rows × 5 columns</p>\n",
       "</div>"
      ],
      "text/plain": [
       "        car_number   time_of_day  throttle  year  throttle_scaled\n",
       "0               21  16:23:00.010       4.0  2017         0.034188\n",
       "1               50  16:23:00.019      20.0  2017         0.170940\n",
       "2               63  16:23:00.023      73.0  2017         0.623932\n",
       "3               77  16:23:00.034      24.0  2017         0.205128\n",
       "4                1  16:23:00.064       9.5  2017         0.081197\n",
       "...            ...           ...       ...   ...              ...\n",
       "5939908         88  19:25:06.649       0.0  2018         0.000000\n",
       "5939909         98  19:25:06.657       5.5  2018         0.047009\n",
       "5939910         S1  19:25:06.661       0.0  2018         0.000000\n",
       "5939911         S2  19:25:06.579       0.0  2018         0.000000\n",
       "5939912         S3  19:25:06.650       0.0  2018         0.000000\n",
       "\n",
       "[5939913 rows x 5 columns]"
      ]
     },
     "execution_count": 83,
     "metadata": {},
     "output_type": "execute_result"
    }
   ],
   "source": [
    "throttlemax = np.round(df.throttle.max())\n",
    "throttlemin = 0\n",
    "print('throttle min: %d, throttle max: %d' % (throttlemin, throttlemax))\n",
    "df['throttle_scaled'] = (df['throttle'] - throttlemin) / (throttlemax - throttlemin)\n",
    "df"
   ]
  },
  {
   "cell_type": "code",
   "execution_count": 84,
   "metadata": {},
   "outputs": [
    {
     "name": "stdout",
     "output_type": "stream",
     "text": [
      "['21', '50', '63', '77', '1', '2', '4', '8', '9', '11', '12', '18', '19', '20', '24', '40', '44', '88', '98', '15', '28', '10', '14', '26', '29', '7', '17', '22', '27', '3', '83', '5', '16']\n",
      "['19', '22', '23', '24', '26', '27', '29', '32', '33', '59', '60', '64', '88', '1', '4', '6', '7', '10', '13', '14', '15', '17', '18', '20', '21', '25', '98', '3', '9', '28', '12', '30', '66']\n"
     ]
    }
   ],
   "source": [
    "trainX, trainy = generate_timeseries_data(df, car_numbers, history_size=150, target_size=1, col_name=\"throttle_scaled\", years=['2017', '2018'], train_ratio=0.2)"
   ]
  },
  {
   "cell_type": "code",
   "execution_count": 85,
   "metadata": {},
   "outputs": [
    {
     "name": "stdout",
     "output_type": "stream",
     "text": [
      "Model: \"sequential_4\"\n",
      "_________________________________________________________________\n",
      "Layer (type)                 Output Shape              Param #   \n",
      "=================================================================\n",
      "lstm_2 (LSTM)                (None, 64)                16896     \n",
      "_________________________________________________________________\n",
      "dropout_2 (Dropout)          (None, 64)                0         \n",
      "_________________________________________________________________\n",
      "repeat_vector_1 (RepeatVecto (None, 150, 64)           0         \n",
      "_________________________________________________________________\n",
      "lstm_3 (LSTM)                (None, 150, 64)           33024     \n",
      "_________________________________________________________________\n",
      "dropout_3 (Dropout)          (None, 150, 64)           0         \n",
      "_________________________________________________________________\n",
      "time_distributed_1 (TimeDist (None, 150, 1)            65        \n",
      "=================================================================\n",
      "Total params: 49,985\n",
      "Trainable params: 49,985\n",
      "Non-trainable params: 0\n",
      "_________________________________________________________________\n"
     ]
    }
   ],
   "source": [
    "model.compile(loss='mae', optimizer='adam')\n",
    "model.summary()"
   ]
  },
  {
   "cell_type": "code",
   "execution_count": null,
   "metadata": {},
   "outputs": [
    {
     "name": "stdout",
     "output_type": "stream",
     "text": [
      "Train on 917787 samples, validate on 101977 samples\n",
      "Epoch 1/20\n",
      "164800/917787 [====>.........................] - ETA: 21:33 - loss: 0.1561"
     ]
    }
   ],
   "source": [
    "callbacks = [EarlyStopping(verbose=True, patience=3, monitor=\"val_loss\"),\n",
    "             ModelCheckpoint(\"/scratch/LSTM-AD-IndyCar/checkpoints/throttle\", monitor=\"val_loss\", verbose=True, save_best_only=True)]\n",
    "history = model.fit(trainX, trainy, epochs=20, batch_size=32, callbacks=callbacks, validation_split=0.1, shuffle=True)"
   ]
  },
  {
   "cell_type": "code",
   "execution_count": null,
   "metadata": {},
   "outputs": [],
   "source": [
    "best_throttle_model = tf.keras.models.load_model('/scratch/LSTM-AD-IndyCar/checkpoints/throttle/')"
   ]
  },
  {
   "cell_type": "code",
   "execution_count": null,
   "metadata": {},
   "outputs": [],
   "source": [
    "car12_X, car12_y = generate_timeseries_data(df, {'2017':['12']}, history_size=150, target_size=1, col_name=\"throttle_scaled\", years=['2017'], train_ratio=1)\n",
    "car12_pred = best_throttle_model.predict(car12_X)\n",
    "train_mae_loss = np.mean(np.abs(car12_pred - car12_X), axis=1)\n",
    "plt.plot(train_mae_loss)"
   ]
  },
  {
   "cell_type": "code",
   "execution_count": null,
   "metadata": {},
   "outputs": [],
   "source": [
    "export_path = 'serve_model/throttle/1/'\n",
    "best_speed_model.save('lstm-ad-throttle_model.h5')\n",
    "\n",
    "tf.keras.models.save_model(\n",
    "    best_speed_model,\n",
    "    export_path,\n",
    "    overwrite=True,\n",
    "    include_optimizer=True,\n",
    "    save_format=None,\n",
    "    signatures=None,\n",
    "    options=None\n",
    ")"
   ]
  },
  {
   "cell_type": "code",
   "execution_count": null,
   "metadata": {},
   "outputs": [],
   "source": [
    "!saved_model_cli show --dir {export_path} --all"
   ]
  },
  {
   "cell_type": "code",
   "execution_count": null,
   "metadata": {},
   "outputs": [],
   "source": []
  }
 ],
 "metadata": {
  "kernelspec": {
   "display_name": "Python 3",
   "language": "python",
   "name": "python3"
  },
  "language_info": {
   "codemirror_mode": {
    "name": "ipython",
    "version": 3
   },
   "file_extension": ".py",
   "mimetype": "text/x-python",
   "name": "python",
   "nbconvert_exporter": "python",
   "pygments_lexer": "ipython3",
   "version": "3.7.6"
  }
 },
 "nbformat": 4,
 "nbformat_minor": 4
}
