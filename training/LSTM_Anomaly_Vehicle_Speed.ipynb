{
 "cells": [
  {
   "cell_type": "markdown",
   "metadata": {},
   "source": [
    "# Indycar LSTM Anomaly Detection for Vehicle Speed"
   ]
  },
  {
   "cell_type": "markdown",
   "metadata": {},
   "source": [
    "This code is tested with tensorflow-gpu 2.1"
   ]
  },
  {
   "cell_type": "code",
   "execution_count": 1,
   "metadata": {},
   "outputs": [],
   "source": [
    "from pymongo import MongoClient\n",
    "import pandas as pd\n",
    "import numpy as np\n",
    "import tensorflow as tf\n",
    "import tensorflow.keras as keras\n",
    "from tensorflow.keras.callbacks import EarlyStopping, ModelCheckpoint\n",
    "import matplotlib.pyplot as plt\n",
    "import os\n",
    "\n",
    "\n",
    "os.environ['CUDA_VISIBLE_DEVICES'] = '0'"
   ]
  },
  {
   "cell_type": "code",
   "execution_count": 2,
   "metadata": {},
   "outputs": [
    {
     "name": "stdout",
     "output_type": "stream",
     "text": [
      "['laps', 'system.indexes', 'cars', 'telemetry', 'pitstop']\n"
     ]
    }
   ],
   "source": [
    "client = MongoClient(\"put-mongodb-connection-string-here\")\n",
    "# database\n",
    "db = client[\"indycar\"]\n",
    "\n",
    "# print collections(tables) in the indycar database\n",
    "print(db.list_collection_names())"
   ]
  },
  {
   "cell_type": "code",
   "execution_count": 3,
   "metadata": {},
   "outputs": [],
   "source": [
    "telemetry= db[\"telemetry\"]"
   ]
  },
  {
   "cell_type": "code",
   "execution_count": 4,
   "metadata": {},
   "outputs": [
    {
     "name": "stdout",
     "output_type": "stream",
     "text": [
      "{'_id': ObjectId('5d9cdc66d6468701d4b7863b'), 'file': 'eRPGenerator_TGMLP_20170528_Indianapolis500_Race.log', 'car_number': '21', 'time_of_day_long': 58980010, 'time_of_day': '16:23:00.010', 'engine_speed': 3297.0, 'lap_distance': 2703.21, 'throttle': 4.0, 'vehicle_speed': 62.16, 'series': 'Indy500', 'year': '2017'}\n",
      "{'_id': ObjectId('5d9cdc66d6468701d4b7863c'), 'file': 'eRPGenerator_TGMLP_20170528_Indianapolis500_Race.log', 'car_number': '50', 'time_of_day_long': 58980019, 'time_of_day': '16:23:00.019', 'engine_speed': 5187.0, 'lap_distance': 1873.8, 'throttle': 20.0, 'vehicle_speed': 63.0, 'series': 'Indy500', 'year': '2017'}\n",
      "{'_id': ObjectId('5d9cdc66d6468701d4b7863d'), 'file': 'eRPGenerator_TGMLP_20170528_Indianapolis500_Race.log', 'car_number': '63', 'time_of_day_long': 58980023, 'time_of_day': '16:23:00.023', 'engine_speed': 4914.0, 'lap_distance': 1822.53, 'throttle': 73.0, 'vehicle_speed': 58.0, 'series': 'Indy500', 'year': '2017'}\n",
      "{'_id': ObjectId('5d9cdc66d6468701d4b7863e'), 'file': 'eRPGenerator_TGMLP_20170528_Indianapolis500_Race.log', 'car_number': '77', 'time_of_day_long': 58980034, 'time_of_day': '16:23:00.034', 'engine_speed': 6744.0, 'lap_distance': 2063.97, 'throttle': 24.0, 'vehicle_speed': 77.52, 'series': 'Indy500', 'year': '2017'}\n",
      "{'_id': ObjectId('5d9cdc66d6468701d4b7863f'), 'file': 'eRPGenerator_TGMLP_20170528_Indianapolis500_Race.log', 'car_number': '1', 'time_of_day_long': 58980064, 'time_of_day': '16:23:00.064', 'engine_speed': 3356.0, 'lap_distance': 1986.76, 'throttle': 9.5, 'vehicle_speed': 60.83, 'series': 'Indy500', 'year': '2017'}\n"
     ]
    }
   ],
   "source": [
    "first_5 = telemetry.find({}).limit(5)\n",
    "\n",
    "for rec in first_5:\n",
    "    print(rec)\n",
    "    \n",
    "del first_5"
   ]
  },
  {
   "cell_type": "code",
   "execution_count": 5,
   "metadata": {},
   "outputs": [
    {
     "name": "stdout",
     "output_type": "stream",
     "text": [
      "['21', '50', '63', '77', '1', '2', '4', '8', '9', '11', '12', '18', '19', '20', '24', '40', '44', '88', '98', '912', '916', '0', '15', '28', '911', '10', '14', '26', '29', '913', '7', '17', '22', '27', '3', '83', '5', '16']\n",
      "['19', '22', '23', '24', '26', '27', '29', '32', '33', '59', '60', '64', '88', 'S1', 'S3', '1', '4', '6', '7', '10', '13', '14', '15', '17', '18', '20', '21', '25', '98', 'S2', '3', '9', '28', '12', '30', '66', '437']\n"
     ]
    }
   ],
   "source": [
    "car_numbers_2017 = list(telemetry.find({'year':'2017', 'series':'Indy500'},\n",
    "                                       {\"car_number\":1, \"_id\":0}).distinct(\"car_number\"))\n",
    "print(car_numbers_2017)\n",
    "\n",
    "car_numbers_2018 = list(telemetry.find({'year':'2018', 'series':'Indy500'},\n",
    "                                       {\"car_number\":1, \"_id\":0}).distinct(\"car_number\"))\n",
    "print(car_numbers_2018)"
   ]
  },
  {
   "cell_type": "markdown",
   "metadata": {},
   "source": [
    "Car numbers are between 1 and 99. Therefore, I removed other values."
   ]
  },
  {
   "cell_type": "code",
   "execution_count": 6,
   "metadata": {},
   "outputs": [],
   "source": [
    "car_numbers= {}\n",
    "car_numbers['2017'] = ['21', '50', '63', '77', '1', '2', '4', '8', '9',\n",
    "                       '11', '12', '18', '19', '20', '24', '40', '44', '88',\n",
    "                       '98', '15', '28', '10', '14', '26', '29', '7', '17',\n",
    "                       '22', '27', '3', '83', '5', '16']\n",
    "car_numbers['2018']= ['19', '22', '23', '24', '26', '27', '29', '32', '33',\n",
    "                      '59', '60', '64', '88', '1', '4', '6', '7', '10', '13',\n",
    "                      '14', '15', '17', '18', '20', '21', '25', '98', '3', '9',\n",
    "                      '28', '12', '30', '66']"
   ]
  },
  {
   "cell_type": "code",
   "execution_count": 7,
   "metadata": {},
   "outputs": [
    {
     "data": {
      "text/html": [
       "<div>\n",
       "<style scoped>\n",
       "    .dataframe tbody tr th:only-of-type {\n",
       "        vertical-align: middle;\n",
       "    }\n",
       "\n",
       "    .dataframe tbody tr th {\n",
       "        vertical-align: top;\n",
       "    }\n",
       "\n",
       "    .dataframe thead th {\n",
       "        text-align: right;\n",
       "    }\n",
       "</style>\n",
       "<table border=\"1\" class=\"dataframe\">\n",
       "  <thead>\n",
       "    <tr style=\"text-align: right;\">\n",
       "      <th></th>\n",
       "      <th>car_number</th>\n",
       "      <th>time_of_day</th>\n",
       "      <th>vehicle_speed</th>\n",
       "      <th>year</th>\n",
       "    </tr>\n",
       "  </thead>\n",
       "  <tbody>\n",
       "    <tr>\n",
       "      <th>0</th>\n",
       "      <td>21</td>\n",
       "      <td>16:23:00.010</td>\n",
       "      <td>62.16</td>\n",
       "      <td>2017</td>\n",
       "    </tr>\n",
       "    <tr>\n",
       "      <th>1</th>\n",
       "      <td>50</td>\n",
       "      <td>16:23:00.019</td>\n",
       "      <td>63.00</td>\n",
       "      <td>2017</td>\n",
       "    </tr>\n",
       "    <tr>\n",
       "      <th>2</th>\n",
       "      <td>63</td>\n",
       "      <td>16:23:00.023</td>\n",
       "      <td>58.00</td>\n",
       "      <td>2017</td>\n",
       "    </tr>\n",
       "    <tr>\n",
       "      <th>3</th>\n",
       "      <td>77</td>\n",
       "      <td>16:23:00.034</td>\n",
       "      <td>77.52</td>\n",
       "      <td>2017</td>\n",
       "    </tr>\n",
       "    <tr>\n",
       "      <th>4</th>\n",
       "      <td>1</td>\n",
       "      <td>16:23:00.064</td>\n",
       "      <td>60.83</td>\n",
       "      <td>2017</td>\n",
       "    </tr>\n",
       "    <tr>\n",
       "      <th>...</th>\n",
       "      <td>...</td>\n",
       "      <td>...</td>\n",
       "      <td>...</td>\n",
       "      <td>...</td>\n",
       "    </tr>\n",
       "    <tr>\n",
       "      <th>5939908</th>\n",
       "      <td>88</td>\n",
       "      <td>19:25:06.649</td>\n",
       "      <td>0.00</td>\n",
       "      <td>2018</td>\n",
       "    </tr>\n",
       "    <tr>\n",
       "      <th>5939909</th>\n",
       "      <td>98</td>\n",
       "      <td>19:25:06.657</td>\n",
       "      <td>0.00</td>\n",
       "      <td>2018</td>\n",
       "    </tr>\n",
       "    <tr>\n",
       "      <th>5939910</th>\n",
       "      <td>S1</td>\n",
       "      <td>19:25:06.661</td>\n",
       "      <td>0.00</td>\n",
       "      <td>2018</td>\n",
       "    </tr>\n",
       "    <tr>\n",
       "      <th>5939911</th>\n",
       "      <td>S2</td>\n",
       "      <td>19:25:06.579</td>\n",
       "      <td>0.00</td>\n",
       "      <td>2018</td>\n",
       "    </tr>\n",
       "    <tr>\n",
       "      <th>5939912</th>\n",
       "      <td>S3</td>\n",
       "      <td>19:25:06.650</td>\n",
       "      <td>0.00</td>\n",
       "      <td>2018</td>\n",
       "    </tr>\n",
       "  </tbody>\n",
       "</table>\n",
       "<p>5939913 rows × 4 columns</p>\n",
       "</div>"
      ],
      "text/plain": [
       "        car_number   time_of_day  vehicle_speed  year\n",
       "0               21  16:23:00.010          62.16  2017\n",
       "1               50  16:23:00.019          63.00  2017\n",
       "2               63  16:23:00.023          58.00  2017\n",
       "3               77  16:23:00.034          77.52  2017\n",
       "4                1  16:23:00.064          60.83  2017\n",
       "...            ...           ...            ...   ...\n",
       "5939908         88  19:25:06.649           0.00  2018\n",
       "5939909         98  19:25:06.657           0.00  2018\n",
       "5939910         S1  19:25:06.661           0.00  2018\n",
       "5939911         S2  19:25:06.579           0.00  2018\n",
       "5939912         S3  19:25:06.650           0.00  2018\n",
       "\n",
       "[5939913 rows x 4 columns]"
      ]
     },
     "execution_count": 7,
     "metadata": {},
     "output_type": "execute_result"
    }
   ],
   "source": [
    "speed_data =list(telemetry.find({'series':'Indy500'}, {\"car_number\":1, \"time_of_day\":1,\n",
    "                                                       \"year\":1, \"vehicle_speed\":1, \"_id\":0}))\n",
    "#car_12_list.values()\n",
    "df = pd.DataFrame(speed_data)\n",
    "df"
   ]
  },
  {
   "cell_type": "code",
   "execution_count": 8,
   "metadata": {},
   "outputs": [
    {
     "data": {
      "text/plain": [
       "car_number        object\n",
       "time_of_day       object\n",
       "vehicle_speed    float64\n",
       "year              object\n",
       "dtype: object"
      ]
     },
     "execution_count": 8,
     "metadata": {},
     "output_type": "execute_result"
    }
   ],
   "source": [
    "df.dtypes"
   ]
  },
  {
   "cell_type": "markdown",
   "metadata": {},
   "source": [
    "scale data between 0 and 1"
   ]
  },
  {
   "cell_type": "code",
   "execution_count": 9,
   "metadata": {},
   "outputs": [
    {
     "name": "stdout",
     "output_type": "stream",
     "text": [
      "speed min: 0, speed max: 239\n"
     ]
    },
    {
     "data": {
      "text/html": [
       "<div>\n",
       "<style scoped>\n",
       "    .dataframe tbody tr th:only-of-type {\n",
       "        vertical-align: middle;\n",
       "    }\n",
       "\n",
       "    .dataframe tbody tr th {\n",
       "        vertical-align: top;\n",
       "    }\n",
       "\n",
       "    .dataframe thead th {\n",
       "        text-align: right;\n",
       "    }\n",
       "</style>\n",
       "<table border=\"1\" class=\"dataframe\">\n",
       "  <thead>\n",
       "    <tr style=\"text-align: right;\">\n",
       "      <th></th>\n",
       "      <th>car_number</th>\n",
       "      <th>time_of_day</th>\n",
       "      <th>vehicle_speed</th>\n",
       "      <th>year</th>\n",
       "      <th>speed_scaled</th>\n",
       "    </tr>\n",
       "  </thead>\n",
       "  <tbody>\n",
       "    <tr>\n",
       "      <th>0</th>\n",
       "      <td>21</td>\n",
       "      <td>16:23:00.010</td>\n",
       "      <td>62.16</td>\n",
       "      <td>2017</td>\n",
       "      <td>0.260084</td>\n",
       "    </tr>\n",
       "    <tr>\n",
       "      <th>1</th>\n",
       "      <td>50</td>\n",
       "      <td>16:23:00.019</td>\n",
       "      <td>63.00</td>\n",
       "      <td>2017</td>\n",
       "      <td>0.263598</td>\n",
       "    </tr>\n",
       "    <tr>\n",
       "      <th>2</th>\n",
       "      <td>63</td>\n",
       "      <td>16:23:00.023</td>\n",
       "      <td>58.00</td>\n",
       "      <td>2017</td>\n",
       "      <td>0.242678</td>\n",
       "    </tr>\n",
       "    <tr>\n",
       "      <th>3</th>\n",
       "      <td>77</td>\n",
       "      <td>16:23:00.034</td>\n",
       "      <td>77.52</td>\n",
       "      <td>2017</td>\n",
       "      <td>0.324351</td>\n",
       "    </tr>\n",
       "    <tr>\n",
       "      <th>4</th>\n",
       "      <td>1</td>\n",
       "      <td>16:23:00.064</td>\n",
       "      <td>60.83</td>\n",
       "      <td>2017</td>\n",
       "      <td>0.254519</td>\n",
       "    </tr>\n",
       "    <tr>\n",
       "      <th>...</th>\n",
       "      <td>...</td>\n",
       "      <td>...</td>\n",
       "      <td>...</td>\n",
       "      <td>...</td>\n",
       "      <td>...</td>\n",
       "    </tr>\n",
       "    <tr>\n",
       "      <th>5939908</th>\n",
       "      <td>88</td>\n",
       "      <td>19:25:06.649</td>\n",
       "      <td>0.00</td>\n",
       "      <td>2018</td>\n",
       "      <td>0.000000</td>\n",
       "    </tr>\n",
       "    <tr>\n",
       "      <th>5939909</th>\n",
       "      <td>98</td>\n",
       "      <td>19:25:06.657</td>\n",
       "      <td>0.00</td>\n",
       "      <td>2018</td>\n",
       "      <td>0.000000</td>\n",
       "    </tr>\n",
       "    <tr>\n",
       "      <th>5939910</th>\n",
       "      <td>S1</td>\n",
       "      <td>19:25:06.661</td>\n",
       "      <td>0.00</td>\n",
       "      <td>2018</td>\n",
       "      <td>0.000000</td>\n",
       "    </tr>\n",
       "    <tr>\n",
       "      <th>5939911</th>\n",
       "      <td>S2</td>\n",
       "      <td>19:25:06.579</td>\n",
       "      <td>0.00</td>\n",
       "      <td>2018</td>\n",
       "      <td>0.000000</td>\n",
       "    </tr>\n",
       "    <tr>\n",
       "      <th>5939912</th>\n",
       "      <td>S3</td>\n",
       "      <td>19:25:06.650</td>\n",
       "      <td>0.00</td>\n",
       "      <td>2018</td>\n",
       "      <td>0.000000</td>\n",
       "    </tr>\n",
       "  </tbody>\n",
       "</table>\n",
       "<p>5939913 rows × 5 columns</p>\n",
       "</div>"
      ],
      "text/plain": [
       "        car_number   time_of_day  vehicle_speed  year  speed_scaled\n",
       "0               21  16:23:00.010          62.16  2017      0.260084\n",
       "1               50  16:23:00.019          63.00  2017      0.263598\n",
       "2               63  16:23:00.023          58.00  2017      0.242678\n",
       "3               77  16:23:00.034          77.52  2017      0.324351\n",
       "4                1  16:23:00.064          60.83  2017      0.254519\n",
       "...            ...           ...            ...   ...           ...\n",
       "5939908         88  19:25:06.649           0.00  2018      0.000000\n",
       "5939909         98  19:25:06.657           0.00  2018      0.000000\n",
       "5939910         S1  19:25:06.661           0.00  2018      0.000000\n",
       "5939911         S2  19:25:06.579           0.00  2018      0.000000\n",
       "5939912         S3  19:25:06.650           0.00  2018      0.000000\n",
       "\n",
       "[5939913 rows x 5 columns]"
      ]
     },
     "execution_count": 9,
     "metadata": {},
     "output_type": "execute_result"
    }
   ],
   "source": [
    "speedmax = np.round(df.vehicle_speed.max())\n",
    "speedmin = 0\n",
    "print('speed min: %d, speed max: %d' % (speedmin, speedmax))\n",
    "df['speed_scaled'] = (df['vehicle_speed'] - speedmin) / (speedmax - speedmin)\n",
    "df"
   ]
  },
  {
   "cell_type": "code",
   "execution_count": 10,
   "metadata": {},
   "outputs": [],
   "source": [
    "# https://www.tensorflow.org/tutorials/structured_data/time_series\n",
    "def generate_timeseries_data(data_df, car_numbers, history_size=150, target_size=1,\n",
    "                             col_name=\"speed_scaled\", years=['2017', '2018'], train_ratio=0.2):\n",
    "    trX,trY = [], []\n",
    "    for year in years:\n",
    "        for car_num in car_numbers[year]:\n",
    "            car_data = data_df[(data_df['car_number'] == car_num) & (data_df['year'] == year)][col_name].values\n",
    "            train_size = int(len(car_data) * train_ratio)\n",
    "            \n",
    "            #training\n",
    "            for i in range(history_size, train_size - history_size):\n",
    "                indices = range(i-history_size, i)\n",
    "                #Reshape data from (history_size,) to (history_size, 1)\n",
    "                trX.append(np.reshape(car_data[indices], (history_size, 1)))\n",
    "                trY.append(car_data[i+target_size])\n",
    "                \n",
    "\n",
    "\n",
    "    return np.array(trX), np.array(trY)"
   ]
  },
  {
   "cell_type": "code",
   "execution_count": 11,
   "metadata": {},
   "outputs": [],
   "source": [
    "trainX, trainy= generate_timeseries_data(df, car_numbers, history_size=150,\n",
    "                                          target_size=1, col_name=\"speed_scaled\",\n",
    "                                          years=['2017', '2018'], train_ratio=0.3)\n"
   ]
  },
  {
   "cell_type": "code",
   "execution_count": 12,
   "metadata": {},
   "outputs": [
    {
     "name": "stdout",
     "output_type": "stream",
     "text": [
      "(1539555, 150, 1)\n"
     ]
    }
   ],
   "source": [
    "print(trainX.shape)\n"
   ]
  },
  {
   "cell_type": "code",
   "execution_count": 13,
   "metadata": {},
   "outputs": [
    {
     "name": "stdout",
     "output_type": "stream",
     "text": [
      "Model: \"sequential\"\n",
      "_________________________________________________________________\n",
      "Layer (type)                 Output Shape              Param #   \n",
      "=================================================================\n",
      "lstm (LSTM)                  (None, 32)                4352      \n",
      "_________________________________________________________________\n",
      "dropout (Dropout)            (None, 32)                0         \n",
      "_________________________________________________________________\n",
      "repeat_vector (RepeatVector) (None, 150, 32)           0         \n",
      "_________________________________________________________________\n",
      "lstm_1 (LSTM)                (None, 150, 32)           8320      \n",
      "_________________________________________________________________\n",
      "dropout_1 (Dropout)          (None, 150, 32)           0         \n",
      "_________________________________________________________________\n",
      "time_distributed (TimeDistri (None, 150, 1)            33        \n",
      "=================================================================\n",
      "Total params: 12,705\n",
      "Trainable params: 12,705\n",
      "Non-trainable params: 0\n",
      "_________________________________________________________________\n"
     ]
    }
   ],
   "source": [
    "# https://www.curiousily.com/posts/anomaly-detection-in-time-series-with-lstms-using-keras-in-python/\n",
    "model = keras.Sequential()\n",
    "model.add(keras.layers.LSTM(units=32,input_shape=(trainX.shape[1], trainX.shape[2])))\n",
    "model.add(keras.layers.Dropout(rate=0.2))\n",
    "model.add(keras.layers.RepeatVector(n=trainX.shape[1]))\n",
    "model.add(keras.layers.LSTM(units=32, return_sequences=True))\n",
    "model.add(keras.layers.Dropout(rate=0.2))\n",
    "model.add(keras.layers.TimeDistributed(keras.layers.Dense(units=trainX.shape[2])))\n",
    "    \n",
    "    \n",
    "model.compile(loss='mae', optimizer='adam')\n",
    "model.summary()"
   ]
  },
  {
   "cell_type": "code",
   "execution_count": 14,
   "metadata": {},
   "outputs": [
    {
     "name": "stdout",
     "output_type": "stream",
     "text": [
      "Train on 1385599 samples, validate on 153956 samples\n",
      "Epoch 1/20\n",
      "1385536/1385599 [============================>.] - ETA: 0s - loss: 0.0229\n",
      "Epoch 00001: val_loss improved from inf to 0.00604, saving model to ./checkpoints/speed/ckpt_1\n",
      "WARNING:tensorflow:From /N/u/sakkas/softwares/anaconda3/envs/tf2.1/lib/python3.7/site-packages/tensorflow_core/python/ops/resource_variable_ops.py:1786: calling BaseResourceVariable.__init__ (from tensorflow.python.ops.resource_variable_ops) with constraint is deprecated and will be removed in a future version.\n",
      "Instructions for updating:\n",
      "If using Keras pass *_constraint arguments to layers.\n",
      "INFO:tensorflow:Assets written to: ./checkpoints/speed/ckpt_1/assets\n",
      "1385599/1385599 [==============================] - 2014s 1ms/sample - loss: 0.0229 - val_loss: 0.0060\n",
      "Epoch 2/20\n",
      "1385568/1385599 [============================>.] - ETA: 0s - loss: 0.0200\n",
      "Epoch 00002: val_loss did not improve from 0.00604\n",
      "1385599/1385599 [==============================] - 2006s 1ms/sample - loss: 0.0200 - val_loss: 0.0061\n",
      "Epoch 3/20\n",
      "1385568/1385599 [============================>.] - ETA: 0s - loss: 0.0198\n",
      "Epoch 00003: val_loss improved from 0.00604 to 0.00582, saving model to ./checkpoints/speed/ckpt_3\n",
      "INFO:tensorflow:Assets written to: ./checkpoints/speed/ckpt_3/assets\n",
      "1385599/1385599 [==============================] - 2016s 1ms/sample - loss: 0.0198 - val_loss: 0.0058\n",
      "Epoch 4/20\n",
      "1385568/1385599 [============================>.] - ETA: 0s - loss: 0.0196\n",
      "Epoch 00004: val_loss did not improve from 0.00582\n",
      "1385599/1385599 [==============================] - 2009s 1ms/sample - loss: 0.0196 - val_loss: 0.0063\n",
      "Epoch 5/20\n",
      "1385536/1385599 [============================>.] - ETA: 0s - loss: 0.0196\n",
      "Epoch 00005: val_loss did not improve from 0.00582\n",
      "1385599/1385599 [==============================] - 2005s 1ms/sample - loss: 0.0196 - val_loss: 0.0059\n",
      "Epoch 6/20\n",
      "1385536/1385599 [============================>.] - ETA: 0s - loss: 0.0195\n",
      "Epoch 00006: val_loss improved from 0.00582 to 0.00539, saving model to ./checkpoints/speed/ckpt_6\n",
      "INFO:tensorflow:Assets written to: ./checkpoints/speed/ckpt_6/assets\n",
      "1385599/1385599 [==============================] - 2014s 1ms/sample - loss: 0.0195 - val_loss: 0.0054\n",
      "Epoch 7/20\n",
      "1385536/1385599 [============================>.] - ETA: 0s - loss: 0.0197\n",
      "Epoch 00007: val_loss improved from 0.00539 to 0.00532, saving model to ./checkpoints/speed/ckpt_7\n",
      "INFO:tensorflow:Assets written to: ./checkpoints/speed/ckpt_7/assets\n",
      "1385599/1385599 [==============================] - 2000s 1ms/sample - loss: 0.0197 - val_loss: 0.0053\n",
      "Epoch 8/20\n",
      "1385568/1385599 [============================>.] - ETA: 0s - loss: 0.0444\n",
      "Epoch 00008: val_loss did not improve from 0.00532\n",
      "1385599/1385599 [==============================] - 1987s 1ms/sample - loss: 0.0444 - val_loss: 0.0176\n",
      "Epoch 9/20\n",
      "1385536/1385599 [============================>.] - ETA: 0s - loss: 0.0249\n",
      "Epoch 00009: val_loss did not improve from 0.00532\n",
      "1385599/1385599 [==============================] - 1985s 1ms/sample - loss: 0.0249 - val_loss: 0.0078\n",
      "Epoch 10/20\n",
      "1385536/1385599 [============================>.] - ETA: 0s - loss: 0.0194\n",
      "Epoch 00010: val_loss did not improve from 0.00532\n",
      "1385599/1385599 [==============================] - 1986s 1ms/sample - loss: 0.0194 - val_loss: 0.0060\n",
      "Epoch 00010: early stopping\n"
     ]
    }
   ],
   "source": [
    "callbacks = [EarlyStopping(verbose=True, patience=3, monitor=\"val_loss\"),\n",
    "             ModelCheckpoint(os.path.join(\"./checkpoints/speed\", \"ckpt_{epoch}\"),\n",
    "                             monitor=\"val_loss\", verbose=True, save_best_only=True),\n",
    "             tf.keras.callbacks.TensorBoard(log_dir='./logs/speed/')\n",
    "            ]\n",
    "\n",
    "history = model.fit(trainX, trainy, epochs=20, batch_size=32, callbacks=callbacks,\n",
    "                    validation_split=0.1, shuffle=True)"
   ]
  },
  {
   "cell_type": "code",
   "execution_count": 15,
   "metadata": {},
   "outputs": [
    {
     "data": {
      "text/plain": [
       "<matplotlib.legend.Legend at 0x7f0c46379a90>"
      ]
     },
     "execution_count": 15,
     "metadata": {},
     "output_type": "execute_result"
    },
    {
     "data": {
      "image/png": "[encoded data removed]",
      "text/plain": [
       "<Figure size 432x288 with 1 Axes>"
      ]
     },
     "metadata": {
      "needs_background": "light"
     },
     "output_type": "display_data"
    }
   ],
   "source": [
    "plt.plot(history.history['loss'])\n",
    "plt.plot(history.history['val_loss'])\n",
    "plt.legend(['training loss', 'validation loss'])"
   ]
  },
  {
   "cell_type": "markdown",
   "metadata": {},
   "source": [
    "Load best model from checkpoint"
   ]
  },
  {
   "cell_type": "code",
   "execution_count": 17,
   "metadata": {},
   "outputs": [],
   "source": [
    "best_speed_model = tf.keras.models.load_model('./checkpoints/speed/ckpt_7')"
   ]
  },
  {
   "cell_type": "code",
   "execution_count": 18,
   "metadata": {},
   "outputs": [],
   "source": [
    "car12_X, car12_y, = generate_timeseries_data(df, {'2017':['12']}, history_size=150,\n",
    "                                            target_size=1, col_name=\"speed_scaled\",\n",
    "                                            years=['2017'], train_ratio=1)"
   ]
  },
  {
   "cell_type": "code",
   "execution_count": 19,
   "metadata": {},
   "outputs": [],
   "source": [
    "car12_pred = best_speed_model.predict(car12_X)"
   ]
  },
  {
   "cell_type": "code",
   "execution_count": 20,
   "metadata": {},
   "outputs": [
    {
     "data": {
      "text/plain": [
       "(96750, 150, 1)"
      ]
     },
     "execution_count": 20,
     "metadata": {},
     "output_type": "execute_result"
    }
   ],
   "source": [
    "car12_pred.shape"
   ]
  },
  {
   "cell_type": "code",
   "execution_count": 21,
   "metadata": {},
   "outputs": [
    {
     "data": {
      "text/plain": [
       "(96750,)"
      ]
     },
     "execution_count": 21,
     "metadata": {},
     "output_type": "execute_result"
    }
   ],
   "source": [
    "car12_y.shape"
   ]
  },
  {
   "cell_type": "code",
   "execution_count": 22,
   "metadata": {},
   "outputs": [],
   "source": [
    "train_mae_loss = np.mean(np.abs(car12_pred - car12_X), axis=1)"
   ]
  },
  {
   "cell_type": "code",
   "execution_count": 23,
   "metadata": {},
   "outputs": [
    {
     "data": {
      "text/plain": [
       "[<matplotlib.lines.Line2D at 0x7f0c47dee890>]"
      ]
     },
     "execution_count": 23,
     "metadata": {},
     "output_type": "execute_result"
    },
    {
     "data": {
      "image/png": "[encoded data removed]",
      "text/plain": [
       "<Figure size 432x288 with 1 Axes>"
      ]
     },
     "metadata": {
      "needs_background": "light"
     },
     "output_type": "display_data"
    }
   ],
   "source": [
    "plt.plot(train_mae_loss)"
   ]
  },
  {
   "cell_type": "code",
   "execution_count": 24,
   "metadata": {},
   "outputs": [
    {
     "name": "stdout",
     "output_type": "stream",
     "text": [
      "INFO:tensorflow:Assets written to: serve_model/speed/1/assets\n"
     ]
    }
   ],
   "source": [
    "export_path = 'serve_model/speed/1/'\n",
    "best_speed_model.save('lstm-ad-speed_model.h5')\n",
    "\n",
    "tf.keras.models.save_model(\n",
    "    best_speed_model,\n",
    "    export_path,\n",
    "    overwrite=True,\n",
    "    include_optimizer=True,\n",
    "    save_format=None,\n",
    "    signatures=None,\n",
    "    options=None\n",
    ")"
   ]
  },
  {
   "cell_type": "code",
   "execution_count": 25,
   "metadata": {},
   "outputs": [
    {
     "name": "stdout",
     "output_type": "stream",
     "text": [
      "\n",
      "MetaGraphDef with tag-set: 'serve' contains the following SignatureDefs:\n",
      "\n",
      "signature_def['__saved_model_init_op']:\n",
      "  The given SavedModel SignatureDef contains the following input(s):\n",
      "  The given SavedModel SignatureDef contains the following output(s):\n",
      "    outputs['__saved_model_init_op'] tensor_info:\n",
      "        dtype: DT_INVALID\n",
      "        shape: unknown_rank\n",
      "        name: NoOp\n",
      "  Method name is: \n",
      "\n",
      "signature_def['serving_default']:\n",
      "  The given SavedModel SignatureDef contains the following input(s):\n",
      "    inputs['lstm_input'] tensor_info:\n",
      "        dtype: DT_FLOAT\n",
      "        shape: (-1, 150, 1)\n",
      "        name: serving_default_lstm_input:0\n",
      "  The given SavedModel SignatureDef contains the following output(s):\n",
      "    outputs['time_distributed'] tensor_info:\n",
      "        dtype: DT_FLOAT\n",
      "        shape: (-1, 150, 1)\n",
      "        name: StatefulPartitionedCall:0\n",
      "  Method name is: tensorflow/serving/predict\n",
      "WARNING:tensorflow:From /N/u/sakkas/softwares/anaconda3/envs/tf2.1/lib/python3.7/site-packages/tensorflow_core/python/ops/resource_variable_ops.py:1786: calling BaseResourceVariable.__init__ (from tensorflow.python.ops.resource_variable_ops) with constraint is deprecated and will be removed in a future version.\n",
      "Instructions for updating:\n",
      "If using Keras pass *_constraint arguments to layers.\n",
      "\n",
      "Defined Functions:\n",
      "  Function Name: '__call__'\n",
      "    Option #1\n",
      "      Callable with:\n",
      "        Argument #1\n",
      "          lstm_input: TensorSpec(shape=(None, 150, 1), dtype=tf.float32, name='lstm_input')\n",
      "        Argument #2\n",
      "          DType: bool\n",
      "          Value: False\n",
      "        Argument #3\n",
      "          DType: NoneType\n",
      "          Value: None\n",
      "    Option #2\n",
      "      Callable with:\n",
      "        Argument #1\n",
      "          lstm_input: TensorSpec(shape=(None, 150, 1), dtype=tf.float32, name='lstm_input')\n",
      "        Argument #2\n",
      "          DType: bool\n",
      "          Value: True\n",
      "        Argument #3\n",
      "          DType: NoneType\n",
      "          Value: None\n",
      "\n",
      "  Function Name: '_default_save_signature'\n",
      "    Option #1\n",
      "      Callable with:\n",
      "        Argument #1\n",
      "          lstm_input: TensorSpec(shape=(None, 150, 1), dtype=tf.float32, name='lstm_input')\n",
      "\n",
      "  Function Name: 'call_and_return_all_conditional_losses'\n",
      "    Option #1\n",
      "      Callable with:\n",
      "        Argument #1\n",
      "          lstm_input: TensorSpec(shape=(None, 150, 1), dtype=tf.float32, name='lstm_input')\n",
      "        Argument #2\n",
      "          DType: bool\n",
      "          Value: True\n",
      "        Argument #3\n",
      "          DType: NoneType\n",
      "          Value: None\n",
      "    Option #2\n",
      "      Callable with:\n",
      "        Argument #1\n",
      "          lstm_input: TensorSpec(shape=(None, 150, 1), dtype=tf.float32, name='lstm_input')\n",
      "        Argument #2\n",
      "          DType: bool\n",
      "          Value: False\n",
      "        Argument #3\n",
      "          DType: NoneType\n",
      "          Value: None\n"
     ]
    }
   ],
   "source": [
    "!saved_model_cli show --dir {export_path} --all"
   ]
  },
  {
   "cell_type": "code",
   "execution_count": null,
   "metadata": {},
   "outputs": [],
   "source": []
  }
 ],
 "metadata": {
  "kernelspec": {
   "display_name": "Python 3",
   "language": "python",
   "name": "python3"
  },
  "language_info": {
   "codemirror_mode": {
    "name": "ipython",
    "version": 3
   },
   "file_extension": ".py",
   "mimetype": "text/x-python",
   "name": "python",
   "nbconvert_exporter": "python",
   "pygments_lexer": "ipython3",
   "version": "3.7.6"
  }
 },
 "nbformat": 4,
 "nbformat_minor": 4
}
